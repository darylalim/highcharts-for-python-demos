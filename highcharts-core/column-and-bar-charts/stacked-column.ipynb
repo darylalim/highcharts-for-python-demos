{
 "cells": [
  {
   "cell_type": "markdown",
   "id": "0c26872a-fc19-4f08-9fd9-ce0b0d961f27",
   "metadata": {},
   "source": [
    "# Stacked column\n",
    "Chart showing stacked columns for comparing quantities. \n",
    "Stacked charts are often used to visualize data that accumulates to a sum. \n",
    "This chart is showing data labels for each individual section of the stack."
   ]
  },
  {
   "cell_type": "markdown",
   "id": "6b461423-bdfe-46fd-ac5e-89a8191948e5",
   "metadata": {},
   "source": [
    "## Import Dependencies"
   ]
  },
  {
   "cell_type": "code",
   "execution_count": null,
   "id": "6ebbd6b7-cd27-4304-9d60-5e5cb2950063",
   "metadata": {},
   "outputs": [],
   "source": [
    "from highcharts_core.chart import Chart\n",
    "from highcharts_core.options import HighchartsOptions"
   ]
  },
  {
   "cell_type": "markdown",
   "id": "a07d8167-8441-4d14-97e6-f40983f37278",
   "metadata": {},
   "source": [
    "## Configure Options"
   ]
  },
  {
   "cell_type": "code",
   "execution_count": null,
   "id": "2d4b0bda-3c20-4af7-bf76-caff71606fed",
   "metadata": {},
   "outputs": [],
   "source": [
    "# Data retrieved from:\n",
    "#  - https://en.as.com/soccer/which-teams-have-won-the-premier-league-the-most-times-n/\n",
    "#  - https://www.statista.com/statistics/383679/fa-cup-wins-by-team/\n",
    "#  - https://www.uefa.com/uefachampionsleague/history/winners/\n",
    "\n",
    "options_as_str = \"\"\"{\n",
    "    chart: {\n",
    "        type: 'column'\n",
    "    },\n",
    "    title: {\n",
    "        text: 'Major trophies for some English teams',\n",
    "        align: 'left'\n",
    "    },\n",
    "    xAxis: {\n",
    "        categories: ['Arsenal', 'Chelsea', 'Liverpool', 'Manchester United']\n",
    "    },\n",
    "    yAxis: {\n",
    "        min: 0,\n",
    "        title: {\n",
    "            text: 'Count trophies'\n",
    "        },\n",
    "        stackLabels: {\n",
    "            enabled: true\n",
    "        }\n",
    "    },\n",
    "    legend: {\n",
    "        align: 'left',\n",
    "        x: 70,\n",
    "        verticalAlign: 'top',\n",
    "        y: 70,\n",
    "        floating: true,\n",
    "        backgroundColor:'white',\n",
    "        borderColor: '#CCC',\n",
    "        borderWidth: 1,\n",
    "        shadow: false\n",
    "    },\n",
    "    tooltip: {\n",
    "        headerFormat: '<b>{category}</b><br/>',\n",
    "        pointFormat: '{series.name}: {point.y}<br/>Total: {point.stackTotal}'\n",
    "    },\n",
    "    plotOptions: {\n",
    "        column: {\n",
    "            stacking: 'normal',\n",
    "            dataLabels: {\n",
    "                enabled: true\n",
    "            }\n",
    "        }\n",
    "    },\n",
    "    series: [{\n",
    "        name: 'BPL',\n",
    "        data: [3, 5, 1, 13]\n",
    "    }, {\n",
    "        name: 'FA Cup',\n",
    "        data: [14, 8, 8, 12]\n",
    "    }, {\n",
    "        name: 'CL',\n",
    "        data: [0, 2, 6, 3]\n",
    "    }]\n",
    "}\"\"\""
   ]
  },
  {
   "cell_type": "markdown",
   "id": "20e17eeb-4324-49dc-a6dd-0415a3ac916e",
   "metadata": {},
   "source": [
    "## Assemble Chart and Options"
   ]
  },
  {
   "cell_type": "code",
   "execution_count": null,
   "id": "1b3a370d-e27f-4c13-90fc-cafa258cf678",
   "metadata": {},
   "outputs": [],
   "source": [
    "options = HighchartsOptions.from_js_literal(options_as_str)\n",
    "chart = Chart.from_options(options)"
   ]
  },
  {
   "cell_type": "markdown",
   "id": "37eee700-9320-41e0-8f73-619346373612",
   "metadata": {},
   "source": [
    "## Render Visualization"
   ]
  },
  {
   "cell_type": "code",
   "execution_count": null,
   "id": "71cd0e89-da09-4fa0-bdef-8ed5ce5db44a",
   "metadata": {
    "tags": []
   },
   "outputs": [],
   "source": [
    "chart.display()"
   ]
  },
  {
   "cell_type": "code",
   "execution_count": null,
   "id": "c33e1db0-5df0-4710-8d64-65d90fc361b6",
   "metadata": {},
   "outputs": [],
   "source": []
  }
 ],
 "metadata": {
  "kernelspec": {
   "display_name": "Python 3 (ipykernel)",
   "language": "python",
   "name": "python3"
  },
  "language_info": {
   "codemirror_mode": {
    "name": "ipython",
    "version": 3
   },
   "file_extension": ".py",
   "mimetype": "text/x-python",
   "name": "python",
   "nbconvert_exporter": "python",
   "pygments_lexer": "ipython3",
   "version": "3.11.9"
  }
 },
 "nbformat": 4,
 "nbformat_minor": 5
}
