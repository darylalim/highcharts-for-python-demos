{
 "cells": [
  {
   "cell_type": "markdown",
   "id": "0c26872a-fc19-4f08-9fd9-ce0b0d961f27",
   "metadata": {},
   "source": [
    "# Variwide\n",
    "Variwide charts can be used to visualize a second dimension in a column chart. Each data point is given a weight, in addition to its value, determining the width of the column. In this chart, the Y-Axis represents the labor cost of the country, while the column width is proportional to the country's GDP."
   ]
  },
  {
   "cell_type": "markdown",
   "id": "6b461423-bdfe-46fd-ac5e-89a8191948e5",
   "metadata": {
    "tags": []
   },
   "source": [
    "## Import Dependencies"
   ]
  },
  {
   "cell_type": "code",
   "execution_count": null,
   "id": "6ebbd6b7-cd27-4304-9d60-5e5cb2950063",
   "metadata": {},
   "outputs": [],
   "source": [
    "from highcharts_core.chart import Chart\n",
    "from highcharts_core.options import HighchartsOptions"
   ]
  },
  {
   "cell_type": "markdown",
   "id": "a07d8167-8441-4d14-97e6-f40983f37278",
   "metadata": {},
   "source": [
    "## Configure Options"
   ]
  },
  {
   "cell_type": "code",
   "execution_count": null,
   "id": "2d4b0bda-3c20-4af7-bf76-caff71606fed",
   "metadata": {},
   "outputs": [],
   "source": [
    "options_as_str = \"\"\"{\n",
    "    chart: {\n",
    "        type: 'variwide'\n",
    "    },\n",
    "\n",
    "    title: {\n",
    "        text: 'Labor Costs in Europe, 2016'\n",
    "    },\n",
    "\n",
    "    subtitle: {\n",
    "        text: 'Source: <a href=\"http://ec.europa.eu/eurostat/web/labour-market/labour-costs/main-tables\">eurostat</a>'\n",
    "    },\n",
    "\n",
    "    xAxis: {\n",
    "        type: 'category'\n",
    "    },\n",
    "\n",
    "    caption: {\n",
    "        text: 'Column widths are proportional to GDP'\n",
    "    },\n",
    "\n",
    "    legend: {\n",
    "        enabled: false\n",
    "    },\n",
    "\n",
    "    series: [{\n",
    "        name: 'Labor Costs',\n",
    "        data: [\n",
    "            ['Norway', 50.2, 335504],\n",
    "            ['Denmark', 42, 277339],\n",
    "            ['Belgium', 39.2, 421611],\n",
    "            ['Sweden', 38, 462057],\n",
    "            ['France', 35.6, 2228857],\n",
    "            ['Netherlands', 34.3, 702641],\n",
    "            ['Finland', 33.2, 215615],\n",
    "            ['Germany', 33.0, 3144050],\n",
    "            ['Austria', 32.7, 349344],\n",
    "            ['Ireland', 30.4, 275567],\n",
    "            ['Italy', 27.8, 1672438],\n",
    "            ['United Kingdom', 26.7, 2366911],\n",
    "            ['Spain', 21.3, 1113851],\n",
    "            ['Greece', 14.2, 175887],\n",
    "            ['Portugal', 13.7, 184933],\n",
    "            ['Czech Republic', 10.2, 176564],\n",
    "            ['Poland', 8.6, 424269],\n",
    "            ['Romania', 5.5, 169578]\n",
    "        ],\n",
    "        dataLabels: {\n",
    "            enabled: true,\n",
    "            format: '€{point.y:.0f}'\n",
    "        },\n",
    "        tooltip: {\n",
    "            pointFormat: 'Labor Costs: <b>€ {point.y}/h</b><br>GDP: <b>€ {point.z} million</b><br>'\n",
    "        },\n",
    "        borderRadius: 3,\n",
    "        colorByPoint: true\n",
    "    }]\n",
    "}\"\"\""
   ]
  },
  {
   "cell_type": "markdown",
   "id": "324b0808-ffde-49aa-a021-a9ef49765887",
   "metadata": {},
   "source": [
    "## Assemble Chart and Options"
   ]
  },
  {
   "cell_type": "code",
   "execution_count": null,
   "id": "7c5577a6-8172-4b59-8f47-99a82994fc8d",
   "metadata": {},
   "outputs": [],
   "source": [
    "options = HighchartsOptions.from_js_literal(options_as_str)\n",
    "chart = Chart.from_options(options)"
   ]
  },
  {
   "cell_type": "markdown",
   "id": "f9fcaee0-cef9-4fee-9cb2-dae949dba41e",
   "metadata": {},
   "source": [
    "## Render Visualization"
   ]
  },
  {
   "cell_type": "code",
   "execution_count": null,
   "id": "71cd0e89-da09-4fa0-bdef-8ed5ce5db44a",
   "metadata": {
    "tags": []
   },
   "outputs": [],
   "source": [
    "chart.display()"
   ]
  },
  {
   "cell_type": "code",
   "execution_count": null,
   "id": "11a4a807-b47b-420c-915d-32100ae1a0b5",
   "metadata": {},
   "outputs": [],
   "source": []
  }
 ],
 "metadata": {
  "kernelspec": {
   "display_name": "Python 3 (ipykernel)",
   "language": "python",
   "name": "python3"
  },
  "language_info": {
   "codemirror_mode": {
    "name": "ipython",
    "version": 3
   },
   "file_extension": ".py",
   "mimetype": "text/x-python",
   "name": "python",
   "nbconvert_exporter": "python",
   "pygments_lexer": "ipython3",
   "version": "3.11.9"
  }
 },
 "nbformat": 4,
 "nbformat_minor": 5
}
