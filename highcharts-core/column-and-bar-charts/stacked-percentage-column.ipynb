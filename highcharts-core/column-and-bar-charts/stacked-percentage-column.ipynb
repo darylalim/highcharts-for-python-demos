{
 "cells": [
  {
   "cell_type": "markdown",
   "id": "0c26872a-fc19-4f08-9fd9-ce0b0d961f27",
   "metadata": {},
   "source": [
    "# Stacked percentage column\n",
    "Chart showing stacked percentage columns, where each column totals 100%, and each element value is visualized by giving it a size relative to the other elements."
   ]
  },
  {
   "cell_type": "markdown",
   "id": "6b461423-bdfe-46fd-ac5e-89a8191948e5",
   "metadata": {},
   "source": [
    "## Import Dependencies"
   ]
  },
  {
   "cell_type": "code",
   "execution_count": null,
   "id": "6ebbd6b7-cd27-4304-9d60-5e5cb2950063",
   "metadata": {},
   "outputs": [],
   "source": [
    "from highcharts_core.chart import Chart\n",
    "from highcharts_core.options import HighchartsOptions"
   ]
  },
  {
   "cell_type": "markdown",
   "id": "a07d8167-8441-4d14-97e6-f40983f37278",
   "metadata": {},
   "source": [
    "## Configure Options"
   ]
  },
  {
   "cell_type": "code",
   "execution_count": null,
   "id": "2d4b0bda-3c20-4af7-bf76-caff71606fed",
   "metadata": {},
   "outputs": [],
   "source": [
    "options_as_str = \"\"\"{\n",
    "    chart: {\n",
    "        type: 'column'\n",
    "    },\n",
    "    title: {\n",
    "        text: 'Domestic passenger transport by mode of transport, Norway'\n",
    "    },\n",
    "    subtitle: {\n",
    "        text: 'Source: <a href=\"https://www.ssb.no/transport-og-reiseliv/landtransport/statistikk/innenlandsk-transport\">SSB</a>'\n",
    "    },\n",
    "    xAxis: {\n",
    "        categories: ['2019', '2020', '2021']\n",
    "    },\n",
    "    yAxis: {\n",
    "        min: 0,\n",
    "        title: {\n",
    "            text: 'Percent'\n",
    "        }\n",
    "    },\n",
    "    tooltip: {\n",
    "        pointFormat: '<span style=\"color:{series.color}\">{series.name}</span>: <b>{point.y}</b> ({point.percentage:.0f}%)<br/>',\n",
    "        shared: true\n",
    "    },\n",
    "    plotOptions: {\n",
    "        column: {\n",
    "            stacking: 'percent',\n",
    "            dataLabels: {\n",
    "                enabled: true,\n",
    "                format: '{point.percentage:.0f}%'\n",
    "            }\n",
    "        }\n",
    "    },\n",
    "    series: [{\n",
    "        name: 'Road',\n",
    "        data: [434, 290, 307]\n",
    "    }, {\n",
    "        name: 'Rail',\n",
    "        data: [272, 153, 156]\n",
    "    }, {\n",
    "        name: 'Air',\n",
    "        data: [13, 7, 8]\n",
    "    }, {\n",
    "        name: 'Sea',\n",
    "        data: [55, 35, 41]\n",
    "    }]\n",
    "}\"\"\""
   ]
  },
  {
   "cell_type": "markdown",
   "id": "20e17eeb-4324-49dc-a6dd-0415a3ac916e",
   "metadata": {},
   "source": [
    "## Assemble Chart and Options"
   ]
  },
  {
   "cell_type": "code",
   "execution_count": null,
   "id": "1b3a370d-e27f-4c13-90fc-cafa258cf678",
   "metadata": {},
   "outputs": [],
   "source": [
    "options = HighchartsOptions.from_js_literal(options_as_str)\n",
    "chart = Chart.from_options(options)"
   ]
  },
  {
   "cell_type": "markdown",
   "id": "37eee700-9320-41e0-8f73-619346373612",
   "metadata": {},
   "source": [
    "## Render Visualization"
   ]
  },
  {
   "cell_type": "code",
   "execution_count": null,
   "id": "71cd0e89-da09-4fa0-bdef-8ed5ce5db44a",
   "metadata": {
    "tags": []
   },
   "outputs": [],
   "source": [
    "chart.display()"
   ]
  },
  {
   "cell_type": "code",
   "execution_count": null,
   "id": "c33e1db0-5df0-4710-8d64-65d90fc361b6",
   "metadata": {},
   "outputs": [],
   "source": []
  }
 ],
 "metadata": {
  "kernelspec": {
   "display_name": "Python 3 (ipykernel)",
   "language": "python",
   "name": "python3"
  },
  "language_info": {
   "codemirror_mode": {
    "name": "ipython",
    "version": 3
   },
   "file_extension": ".py",
   "mimetype": "text/x-python",
   "name": "python",
   "nbconvert_exporter": "python",
   "pygments_lexer": "ipython3",
   "version": "3.11.9"
  }
 },
 "nbformat": 4,
 "nbformat_minor": 5
}
