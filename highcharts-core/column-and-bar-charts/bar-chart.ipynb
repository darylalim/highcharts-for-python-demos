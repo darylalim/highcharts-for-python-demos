{
 "cells": [
  {
   "cell_type": "markdown",
   "id": "0c26872a-fc19-4f08-9fd9-ce0b0d961f27",
   "metadata": {},
   "source": [
    "# Basic bar chart\n",
    "Bar chart showing horizontal columns. This chart type is often\n",
    "beneficial for smaller screens, as the user can scroll through the data\n",
    "vertically, and axis labels are easy to read."
   ]
  },
  {
   "cell_type": "markdown",
   "id": "6b461423-bdfe-46fd-ac5e-89a8191948e5",
   "metadata": {},
   "source": [
    "## Import Dependencies"
   ]
  },
  {
   "cell_type": "code",
   "execution_count": null,
   "id": "6ebbd6b7-cd27-4304-9d60-5e5cb2950063",
   "metadata": {},
   "outputs": [],
   "source": [
    "from highcharts_core.chart import Chart\n",
    "from highcharts_core.options import HighchartsOptions"
   ]
  },
  {
   "cell_type": "markdown",
   "id": "a07d8167-8441-4d14-97e6-f40983f37278",
   "metadata": {},
   "source": [
    "## Configure Options"
   ]
  },
  {
   "cell_type": "code",
   "execution_count": null,
   "id": "2d4b0bda-3c20-4af7-bf76-caff71606fed",
   "metadata": {},
   "outputs": [],
   "source": [
    "options_as_str = \"\"\"{\n",
    "    chart: {\n",
    "        type: 'bar'\n",
    "    },\n",
    "    title: {\n",
    "        text: 'Historic World Population by Region'\n",
    "    },\n",
    "    subtitle: {\n",
    "        text: 'Source: <a href=\"https://en.wikipedia.org/wiki/List_of_continents_and_continental_subregions_by_population\" target=\"_blank\">Wikipedia.org</a>'\n",
    "    },\n",
    "    xAxis: {\n",
    "        categories: ['Africa', 'America', 'Asia', 'Europe'],\n",
    "        title: {\n",
    "            text: null\n",
    "        },\n",
    "        gridLineWidth: 1,\n",
    "        lineWidth: 0\n",
    "    },\n",
    "    yAxis: {\n",
    "        min: 0,\n",
    "        title: {\n",
    "            text: 'Population (millions)',\n",
    "            align: 'high'\n",
    "        },\n",
    "        labels: {\n",
    "            overflow: 'justify'\n",
    "        },\n",
    "        gridLineWidth: 0\n",
    "    },\n",
    "    tooltip: {\n",
    "        valueSuffix: ' millions'\n",
    "    },\n",
    "    plotOptions: {\n",
    "        bar: {\n",
    "            borderRadius: '50%',\n",
    "            dataLabels: {\n",
    "                enabled: true\n",
    "            },\n",
    "            groupPadding: 0.1\n",
    "        }\n",
    "    },\n",
    "    legend: {\n",
    "        layout: 'vertical',\n",
    "        align: 'right',\n",
    "        verticalAlign: 'top',\n",
    "        x: -40,\n",
    "        y: 80,\n",
    "        floating: true,\n",
    "        borderWidth: 1,\n",
    "        backgroundColor: '#FFFFFF',\n",
    "        shadow: true\n",
    "    },\n",
    "    credits: {\n",
    "        enabled: false\n",
    "    },\n",
    "    series: [{\n",
    "        name: 'Year 1990',\n",
    "        data: [632, 727, 3202, 721]\n",
    "    }, {\n",
    "        name: 'Year 2000',\n",
    "        data: [814, 841, 3714, 726]\n",
    "    }, {\n",
    "        name: 'Year 2021',\n",
    "        data: [1393, 1031, 4695, 745]\n",
    "    }]\n",
    "}\"\"\""
   ]
  },
  {
   "cell_type": "markdown",
   "id": "06da79f1-419c-49de-bc7c-8f9d1ad5f937",
   "metadata": {},
   "source": [
    "## Assemble Chart and Options"
   ]
  },
  {
   "cell_type": "code",
   "execution_count": null,
   "id": "0a24bb33-adc4-4fb0-964b-dd91921cbbbf",
   "metadata": {},
   "outputs": [],
   "source": [
    "options = HighchartsOptions.from_js_literal(options_as_str)\n",
    "chart = Chart.from_options(options)"
   ]
  },
  {
   "cell_type": "markdown",
   "id": "3060b9c0-a99c-4c94-bb4a-3897f1a35ca9",
   "metadata": {},
   "source": [
    "## Render Visualization"
   ]
  },
  {
   "cell_type": "code",
   "execution_count": null,
   "id": "71cd0e89-da09-4fa0-bdef-8ed5ce5db44a",
   "metadata": {
    "tags": []
   },
   "outputs": [],
   "source": [
    "chart.display()"
   ]
  }
 ],
 "metadata": {
  "kernelspec": {
   "display_name": "Python 3 (ipykernel)",
   "language": "python",
   "name": "python3"
  },
  "language_info": {
   "codemirror_mode": {
    "name": "ipython",
    "version": 3
   },
   "file_extension": ".py",
   "mimetype": "text/x-python",
   "name": "python",
   "nbconvert_exporter": "python",
   "pygments_lexer": "ipython3",
   "version": "3.11.9"
  }
 },
 "nbformat": 4,
 "nbformat_minor": 5
}
