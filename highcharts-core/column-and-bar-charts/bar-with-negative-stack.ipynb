{
 "cells": [
  {
   "cell_type": "markdown",
   "id": "0c26872a-fc19-4f08-9fd9-ce0b0d961f27",
   "metadata": {},
   "source": [
    "# Bar with negative stack\n",
    "Bar chart showing Andorran population distribution by using a mirrored horizontal column chart with stacking and two x-axes."
   ]
  },
  {
   "cell_type": "markdown",
   "id": "6b461423-bdfe-46fd-ac5e-89a8191948e5",
   "metadata": {},
   "source": [
    "## Import Dependencies"
   ]
  },
  {
   "cell_type": "code",
   "execution_count": null,
   "id": "6ebbd6b7-cd27-4304-9d60-5e5cb2950063",
   "metadata": {},
   "outputs": [],
   "source": [
    "from highcharts_core.chart import Chart\n",
    "from highcharts_core.options import HighchartsOptions"
   ]
  },
  {
   "cell_type": "markdown",
   "id": "a07d8167-8441-4d14-97e6-f40983f37278",
   "metadata": {},
   "source": [
    "## Configure Options"
   ]
  },
  {
   "cell_type": "code",
   "execution_count": null,
   "id": "2d4b0bda-3c20-4af7-bf76-caff71606fed",
   "metadata": {},
   "outputs": [],
   "source": [
    "options_as_str = \"\"\"{\n",
    "    chart: {\n",
    "        type: 'bar'\n",
    "    },\n",
    "    \n",
    "    title: {\n",
    "        text: 'Population pyramid for Andorra, 2023'\n",
    "    },\n",
    "    \n",
    "    subtitle: {\n",
    "        text: 'Source: <a href=\"https://countryeconomy.com/demography/population-structure/andorra\" target=\"_blank\">countryeconomy.com</a>'\n",
    "    },\n",
    "    \n",
    "    accessibility: {\n",
    "        point: {\n",
    "            valueDescriptionFormat: '{index}. Age {xDescription}, {value}%.'\n",
    "        }\n",
    "    },\n",
    "    \n",
    "    xAxis: [{\n",
    "        categories: [\n",
    "            '0-4', '5-9', '10-14', '15-19', '20-24', '25-29', '30-34', '35-40', '40-45', \n",
    "            '45-49', '50-54', '55-59', '60-64', '65-69', '70-74', '75-79', '80-84', \n",
    "            '80+'\n",
    "            ],\n",
    "        reversed: false,\n",
    "        labels: {\n",
    "            step: 1\n",
    "        },\n",
    "        accessibility: {\n",
    "            description: 'Age (male)'\n",
    "        }\n",
    "    }, { // mirror axis on right side\n",
    "        opposite: true,\n",
    "        reversed: false,\n",
    "        categories: [\n",
    "            '0-4', '5-9', '10-14', '15-19', '20-24', '25-29', '30-34', '35-40', '40-45', \n",
    "            '45-49', '50-54', '55-59', '60-64', '65-69', '70-74', '75-79', '80-84', \n",
    "            '80+'\n",
    "            ],\n",
    "        linkedTo: 0,\n",
    "        labels: {\n",
    "            step: 1\n",
    "        },\n",
    "        accessibility: {\n",
    "            description: 'Age (female)'\n",
    "        }\n",
    "    }],\n",
    "    \n",
    "    yAxis: {\n",
    "        title: {\n",
    "            text: null\n",
    "        },\n",
    "        labels: {\n",
    "            formatter: function () {\n",
    "                return Math.abs(this.value) + '%';\n",
    "            }\n",
    "        },\n",
    "        accessibility: {\n",
    "            description: 'Percentage population',\n",
    "            rangeDescription: 'Range: 0 to 5%'\n",
    "        }\n",
    "    },\n",
    "\n",
    "    plotOptions: {\n",
    "        series: {\n",
    "            stacking: 'normal',\n",
    "            borderRadius: '50%'\n",
    "        }\n",
    "    },\n",
    "\n",
    "    tooltip: {\n",
    "        formatter: function () {\n",
    "            return '<b>' + this.series.name + ', age ' + this.point.category + '</b><br/>' +\n",
    "                'Population: ' + Highcharts.numberFormat(Math.abs(this.point.y), 1) + '%';\n",
    "        }\n",
    "    },\n",
    "\n",
    "    series: [{\n",
    "        name: 'Male',\n",
    "        data: [\n",
    "            -1.38, -2.09, -2.45, -2.71, -2.97,\n",
    "            -3.69, -4.04, -3.81, -4.19, -4.61,\n",
    "            -4.56, -4.21, -3.53, -2.55, -1.82,\n",
    "            -1.46, -0.78, -0.71\n",
    "        ]\n",
    "    }, {\n",
    "        name: 'Female',\n",
    "        data: [\n",
    "            1.35, 1.98, 2.43, 2.39, 2.71,\n",
    "            3.02, 3.50, 3.52, 4.03, 4.40,\n",
    "            4.17, 3.88, 3.29, 2.42, 1.80,\n",
    "            1.39, 0.99, 1.15\n",
    "        ]\n",
    "    }]\n",
    "}\"\"\""
   ]
  },
  {
   "cell_type": "markdown",
   "id": "4096006f-2c61-4503-8244-05f15348d8bd",
   "metadata": {},
   "source": [
    "## Assemble Chart and Options"
   ]
  },
  {
   "cell_type": "code",
   "execution_count": null,
   "id": "71cd0e89-da09-4fa0-bdef-8ed5ce5db44a",
   "metadata": {
    "tags": []
   },
   "outputs": [],
   "source": [
    "options = HighchartsOptions.from_js_literal(options_as_str)\n",
    "chart = Chart.from_options(options)"
   ]
  },
  {
   "cell_type": "markdown",
   "id": "3df858fb-8b73-4a1f-a7e9-c93edd28da7b",
   "metadata": {},
   "source": [
    "## Render Visualization"
   ]
  },
  {
   "cell_type": "code",
   "execution_count": null,
   "id": "f0f0a933-a5f0-4570-b5ae-5b8fb547e9e5",
   "metadata": {},
   "outputs": [],
   "source": [
    "chart.display()"
   ]
  }
 ],
 "metadata": {
  "kernelspec": {
   "display_name": "Python 3 (ipykernel)",
   "language": "python",
   "name": "python3"
  },
  "language_info": {
   "codemirror_mode": {
    "name": "ipython",
    "version": 3
   },
   "file_extension": ".py",
   "mimetype": "text/x-python",
   "name": "python",
   "nbconvert_exporter": "python",
   "pygments_lexer": "ipython3",
   "version": "3.11.9"
  }
 },
 "nbformat": 4,
 "nbformat_minor": 5
}
