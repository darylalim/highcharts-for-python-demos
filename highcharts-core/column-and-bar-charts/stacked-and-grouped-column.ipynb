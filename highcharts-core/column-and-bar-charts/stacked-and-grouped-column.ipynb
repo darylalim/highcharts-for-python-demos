{
 "cells": [
  {
   "cell_type": "markdown",
   "id": "0c26872a-fc19-4f08-9fd9-ce0b0d961f27",
   "metadata": {},
   "source": [
    "# Stacked and grouped column\n",
    "Chart showing stacked columns with grouping, allowing specific series to be stacked on the same column. \n",
    "Stacking is often used to visualize data that accumulates to a sum."
   ]
  },
  {
   "cell_type": "markdown",
   "id": "6b461423-bdfe-46fd-ac5e-89a8191948e5",
   "metadata": {},
   "source": [
    "## Import Dependencies"
   ]
  },
  {
   "cell_type": "code",
   "execution_count": null,
   "id": "6ebbd6b7-cd27-4304-9d60-5e5cb2950063",
   "metadata": {},
   "outputs": [],
   "source": [
    "from highcharts_core.chart import Chart\n",
    "from highcharts_core.options import HighchartsOptions"
   ]
  },
  {
   "cell_type": "markdown",
   "id": "a07d8167-8441-4d14-97e6-f40983f37278",
   "metadata": {},
   "source": [
    "## Configure Options"
   ]
  },
  {
   "cell_type": "code",
   "execution_count": null,
   "id": "2d4b0bda-3c20-4af7-bf76-caff71606fed",
   "metadata": {},
   "outputs": [],
   "source": [
    "# Data retrieved from https://en.wikipedia.org/wiki/Winter_Olympic_Games\n",
    "\n",
    "options_as_str = \"\"\"{\n",
    "    chart: {\n",
    "        type: 'column'\n",
    "    },\n",
    "\n",
    "    title: {\n",
    "        text: 'Olympic Games all-time medal table, grouped by continent',\n",
    "        align: 'left'\n",
    "    },\n",
    "\n",
    "    xAxis: {\n",
    "        categories: ['Gold', 'Silver', 'Bronze']\n",
    "    },\n",
    "\n",
    "    yAxis: {\n",
    "        allowDecimals: false,\n",
    "        min: 0,\n",
    "        title: {\n",
    "            text: 'Count medals'\n",
    "        }\n",
    "    },\n",
    "\n",
    "    tooltip: {\n",
    "        format: '<b>{key}</b><br/>{series.name}: {y}<br/>Total: {point.stackTotal}'\n",
    "    },\n",
    "\n",
    "    plotOptions: {\n",
    "        column: {\n",
    "            stacking: 'normal'\n",
    "        }\n",
    "    },\n",
    "\n",
    "    series: [{\n",
    "        name: 'Norway',\n",
    "        data: [148, 133, 124],\n",
    "        stack: 'Europe'\n",
    "    }, {\n",
    "        name: 'Germany',\n",
    "        data: [102, 98, 65],\n",
    "        stack: 'Europe'\n",
    "    }, {\n",
    "        name: 'United States',\n",
    "        data: [113, 122, 95],\n",
    "        stack: 'North America'\n",
    "    }, {\n",
    "        name: 'Canada',\n",
    "        data: [77, 72, 80],\n",
    "        stack: 'North America'\n",
    "    }]\n",
    "}\"\"\""
   ]
  },
  {
   "cell_type": "markdown",
   "id": "20e17eeb-4324-49dc-a6dd-0415a3ac916e",
   "metadata": {},
   "source": [
    "## Assemble Chart and Options"
   ]
  },
  {
   "cell_type": "code",
   "execution_count": null,
   "id": "1b3a370d-e27f-4c13-90fc-cafa258cf678",
   "metadata": {},
   "outputs": [],
   "source": [
    "options = HighchartsOptions.from_js_literal(options_as_str)\n",
    "chart = Chart.from_options(options)"
   ]
  },
  {
   "cell_type": "markdown",
   "id": "37eee700-9320-41e0-8f73-619346373612",
   "metadata": {},
   "source": [
    "## Render Visualization"
   ]
  },
  {
   "cell_type": "code",
   "execution_count": null,
   "id": "71cd0e89-da09-4fa0-bdef-8ed5ce5db44a",
   "metadata": {
    "tags": []
   },
   "outputs": [],
   "source": [
    "chart.display()"
   ]
  },
  {
   "cell_type": "code",
   "execution_count": null,
   "id": "c33e1db0-5df0-4710-8d64-65d90fc361b6",
   "metadata": {},
   "outputs": [],
   "source": []
  }
 ],
 "metadata": {
  "kernelspec": {
   "display_name": "Python 3 (ipykernel)",
   "language": "python",
   "name": "python3"
  },
  "language_info": {
   "codemirror_mode": {
    "name": "ipython",
    "version": 3
   },
   "file_extension": ".py",
   "mimetype": "text/x-python",
   "name": "python",
   "nbconvert_exporter": "python",
   "pygments_lexer": "ipython3",
   "version": "3.11.9"
  }
 },
 "nbformat": 4,
 "nbformat_minor": 5
}
