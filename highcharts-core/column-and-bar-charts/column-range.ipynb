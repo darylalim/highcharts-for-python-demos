{
 "cells": [
  {
   "cell_type": "markdown",
   "id": "0c26872a-fc19-4f08-9fd9-ce0b0d961f27",
   "metadata": {},
   "source": [
    "# Column range\n",
    "Chart showing ranges using horizontal columns. Each range is represented with a low and high value, with a bar between them."
   ]
  },
  {
   "cell_type": "markdown",
   "id": "21d9d083-a876-4e7a-a452-80eb84d8d303",
   "metadata": {},
   "source": [
    "## Import Dependencies"
   ]
  },
  {
   "cell_type": "code",
   "execution_count": null,
   "id": "6ebbd6b7-cd27-4304-9d60-5e5cb2950063",
   "metadata": {},
   "outputs": [],
   "source": [
    "from highcharts_core.chart import Chart\n",
    "from highcharts_core.options import HighchartsOptions"
   ]
  },
  {
   "cell_type": "markdown",
   "id": "a07d8167-8441-4d14-97e6-f40983f37278",
   "metadata": {},
   "source": [
    "## Configure Options"
   ]
  },
  {
   "cell_type": "code",
   "execution_count": null,
   "id": "2d4b0bda-3c20-4af7-bf76-caff71606fed",
   "metadata": {},
   "outputs": [],
   "source": [
    "options_as_str = \"\"\"{\n",
    "\n",
    "    chart: {\n",
    "        type: 'columnrange',\n",
    "        inverted: true\n",
    "    },\n",
    "\n",
    "    accessibility: {\n",
    "        description: 'Image description: A column range chart compares the monthly temperature variations throughout 2023 in Vik I Sogn, Norway. The chart is interactive and displays the temperature range for each month when hovering over the data. The temperature is measured in degrees Celsius on the X-axis and the months are plotted on the Y-axis. The lowest temperature is recorded in March at minus 13.1 Celsius. The lowest range of temperatures is found in September ranging from a low of 9.6 to a high of 23.0 Celsius. The highest temperature is found in June at 28.4 Celsius, and has the highest range of temperatures from 3.1 up to 28.4 Celsius.'\n",
    "    },\n",
    "\n",
    "    title: {\n",
    "        text: 'Temperature variation by month'\n",
    "    },\n",
    "\n",
    "    subtitle: {\n",
    "        text: 'Observed in Vik i Sogn, Norway, 2023 | Source: <a href=\"https://www.vikjavev.no/ver/\" target=\"_blank\">Vikjavev</a>'\n",
    "    },\n",
    "\n",
    "    xAxis: {\n",
    "        categories: [\n",
    "            'Jan', 'Feb', 'Mar', 'Apr', 'May', 'Jun',\n",
    "            'Jul', 'Aug', 'Sep', 'Oct', 'Nov', 'Dec'\n",
    "        ]\n",
    "    },\n",
    "\n",
    "    yAxis: {\n",
    "        title: {\n",
    "            text: 'Temperature ( °C )'\n",
    "        }\n",
    "    },\n",
    "\n",
    "    tooltip: {\n",
    "        valueSuffix: '°C'\n",
    "    },\n",
    "\n",
    "    plotOptions: {\n",
    "        columnrange: {\n",
    "            borderRadius: '50%',\n",
    "            dataLabels: {\n",
    "                enabled: true,\n",
    "                format: '{y}°C'\n",
    "            }\n",
    "        }\n",
    "    },\n",
    "\n",
    "    legend: {\n",
    "        enabled: false\n",
    "    },\n",
    "\n",
    "    series: [{\n",
    "        name: 'Temperatures',\n",
    "        data: [\n",
    "            [-9.5, 8.0],\n",
    "            [-7.8, 8.3],\n",
    "            [-13.1, 9.2],\n",
    "            [-4.4, 15.7],\n",
    "            [-1.0, 20.8],\n",
    "            [3.1, 28.4],\n",
    "            [8.9, 27.0],\n",
    "            [9.6, 23.0],\n",
    "            [4.9, 19.3],\n",
    "            [-5.2, 11.6],\n",
    "            [-10.5, 12.0],\n",
    "            [-12.1, 8.5]\n",
    "        ]\n",
    "    }]\n",
    "\n",
    "}\"\"\""
   ]
  },
  {
   "cell_type": "markdown",
   "id": "a7a389ba-d9ee-4d6f-bb44-e40ddd6d3dc9",
   "metadata": {},
   "source": [
    "## Assemble Chart and Options"
   ]
  },
  {
   "cell_type": "code",
   "execution_count": null,
   "id": "71cd0e89-da09-4fa0-bdef-8ed5ce5db44a",
   "metadata": {
    "tags": []
   },
   "outputs": [],
   "source": [
    "options = HighchartsOptions.from_js_literal(options_as_str)\n",
    "chart = Chart.from_options(options)"
   ]
  },
  {
   "cell_type": "markdown",
   "id": "28dfc199-436f-4e17-81b6-ed7e2a8ee7d2",
   "metadata": {},
   "source": [
    "## Render Visualization"
   ]
  },
  {
   "cell_type": "code",
   "execution_count": null,
   "id": "c9526b0f-656c-4019-8e74-dd11ea37370e",
   "metadata": {},
   "outputs": [],
   "source": [
    "chart.display()"
   ]
  }
 ],
 "metadata": {
  "kernelspec": {
   "display_name": "Python 3 (ipykernel)",
   "language": "python",
   "name": "python3"
  },
  "language_info": {
   "codemirror_mode": {
    "name": "ipython",
    "version": 3
   },
   "file_extension": ".py",
   "mimetype": "text/x-python",
   "name": "python",
   "nbconvert_exporter": "python",
   "pygments_lexer": "ipython3",
   "version": "3.11.9"
  }
 },
 "nbformat": 4,
 "nbformat_minor": 5
}
