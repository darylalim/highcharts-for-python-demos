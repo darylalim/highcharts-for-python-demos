{
 "cells": [
  {
   "cell_type": "markdown",
   "id": "0c26872a-fc19-4f08-9fd9-ce0b0d961f27",
   "metadata": {},
   "source": [
    "# Pie chart\n",
    "Pie charts are very popular for showing a compact overview of a composition or comparison. While they can be harder to read than column charts, they remain a popular choice for small datasets."
   ]
  },
  {
   "cell_type": "markdown",
   "id": "6b461423-bdfe-46fd-ac5e-89a8191948e5",
   "metadata": {},
   "source": [
    "## Import Dependencies"
   ]
  },
  {
   "cell_type": "code",
   "execution_count": null,
   "id": "6ebbd6b7-cd27-4304-9d60-5e5cb2950063",
   "metadata": {},
   "outputs": [],
   "source": [
    "from highcharts_core.chart import Chart\n",
    "from highcharts_core.options import HighchartsOptions"
   ]
  },
  {
   "cell_type": "markdown",
   "id": "a07d8167-8441-4d14-97e6-f40983f37278",
   "metadata": {},
   "source": [
    "## Configure Options"
   ]
  },
  {
   "cell_type": "code",
   "execution_count": null,
   "id": "2d4b0bda-3c20-4af7-bf76-caff71606fed",
   "metadata": {},
   "outputs": [],
   "source": [
    "options_as_str = \"\"\"{\n",
    "    chart: {\n",
    "        type: 'pie'\n",
    "    },\n",
    "    \n",
    "    title: {\n",
    "        text: 'Egg Yolk Composition'\n",
    "    },\n",
    "    \n",
    "    tooltip: {\n",
    "        valueSuffix: '%'\n",
    "    },\n",
    "    \n",
    "    subtitle: {\n",
    "        text:\n",
    "        'Source:<a href=\"https://www.mdpi.com/2072-6643/11/3/684/htm\" target=\"_default\">MDPI</a>'\n",
    "    },\n",
    "    \n",
    "    plotOptions: {\n",
    "        series: {\n",
    "            allowPointSelect: true,\n",
    "            cursor: 'pointer',\n",
    "            dataLabels: [{\n",
    "                enabled: true,\n",
    "                distance: 20\n",
    "            }, {\n",
    "                enabled: true,\n",
    "                distance: -40,\n",
    "                format: '{point.percentage:.1f}%',\n",
    "                style: {\n",
    "                    fontSize: '1.2em',\n",
    "                    textOutline: 'none',\n",
    "                    opacity: 0.7\n",
    "                },\n",
    "                filter: {\n",
    "                    operator: '>',\n",
    "                    property: 'percentage',\n",
    "                    value: 10\n",
    "                }\n",
    "            }]\n",
    "        }\n",
    "    },\n",
    "    \n",
    "    series: [\n",
    "        {\n",
    "            name: 'Percentage',\n",
    "            colorByPoint: true,\n",
    "            data: [\n",
    "                {\n",
    "                    name: 'Water',\n",
    "                    y: 55.02\n",
    "                },\n",
    "                {\n",
    "                    name: 'Fat',\n",
    "                    sliced: true,\n",
    "                    selected: true,\n",
    "                    y: 26.71\n",
    "                },\n",
    "                {\n",
    "                    name: 'Carbohydrates',\n",
    "                    y: 1.09\n",
    "                },\n",
    "                {\n",
    "                    name: 'Protein',\n",
    "                    y: 15.5\n",
    "                },\n",
    "                {\n",
    "                    name: 'Ash',\n",
    "                    y: 1.68\n",
    "                }\n",
    "            ]\n",
    "        }\n",
    "    ]\n",
    "}\"\"\""
   ]
  },
  {
   "cell_type": "markdown",
   "id": "2ce1d4ff-2977-4d32-9919-3ad27215673d",
   "metadata": {},
   "source": [
    "## Assemble Chart and Options"
   ]
  },
  {
   "cell_type": "code",
   "execution_count": null,
   "id": "cb7d8f33-e77d-4cc3-9854-ff2010e716d2",
   "metadata": {},
   "outputs": [],
   "source": [
    "options = HighchartsOptions.from_js_literal(options_as_str)\n",
    "chart = Chart.from_options(options)"
   ]
  },
  {
   "cell_type": "markdown",
   "id": "d2ed038c-5070-4c6b-808d-1185477b358d",
   "metadata": {},
   "source": [
    "## Render Visualization"
   ]
  },
  {
   "cell_type": "code",
   "execution_count": null,
   "id": "71cd0e89-da09-4fa0-bdef-8ed5ce5db44a",
   "metadata": {
    "tags": []
   },
   "outputs": [],
   "source": [
    "chart.display()"
   ]
  },
  {
   "cell_type": "code",
   "execution_count": null,
   "id": "c9526b0f-656c-4019-8e74-dd11ea37370e",
   "metadata": {},
   "outputs": [],
   "source": []
  }
 ],
 "metadata": {
  "kernelspec": {
   "display_name": "Python 3 (ipykernel)",
   "language": "python",
   "name": "python3"
  },
  "language_info": {
   "codemirror_mode": {
    "name": "ipython",
    "version": 3
   },
   "file_extension": ".py",
   "mimetype": "text/x-python",
   "name": "python",
   "nbconvert_exporter": "python",
   "pygments_lexer": "ipython3",
   "version": "3.11.9"
  }
 },
 "nbformat": 4,
 "nbformat_minor": 5
}
