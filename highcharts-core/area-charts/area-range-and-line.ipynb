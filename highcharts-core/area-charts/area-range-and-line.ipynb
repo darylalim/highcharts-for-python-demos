{
 "cells": [
  {
   "cell_type": "markdown",
   "id": "3d033821-eebd-4e56-8d75-1640001f6451",
   "metadata": {},
   "source": [
    "# Area range and line\n",
    "Chart demonstrating using an arearange series in combination with a line\n",
    "series. In this case, the arearange series is used to visualize the\n",
    "temperature range per day, while the line series shows the average\n",
    "temperature."
   ]
  },
  {
   "cell_type": "markdown",
   "id": "19324d42-e2dd-41a3-a12f-ca8fbceda5ec",
   "metadata": {},
   "source": [
    "## Import Dependencies"
   ]
  },
  {
   "cell_type": "code",
   "execution_count": null,
   "id": "9962170c-4f90-41f7-873e-0599ab54c046",
   "metadata": {
    "tags": []
   },
   "outputs": [],
   "source": [
    "from highcharts_core.chart import Chart\n",
    "from highcharts_core.options import HighchartsOptions\n",
    "from highcharts_core.options.series.area import AreaRangeSeries, LineSeries"
   ]
  },
  {
   "cell_type": "markdown",
   "id": "131fd3c7-bacc-4bfb-ae09-d5800a7be170",
   "metadata": {},
   "source": [
    "## Prepare Data"
   ]
  },
  {
   "cell_type": "code",
   "execution_count": null,
   "id": "3c274c54-ddde-40de-b650-b7a5a001ab77",
   "metadata": {
    "tags": []
   },
   "outputs": [],
   "source": [
    "ranges = [\n",
    "    [-4.4, 13.1],\n",
    "    [-0.5, 8.9],\n",
    "    [-0.6, 5.4],\n",
    "    [-4.8, 1.0],\n",
    "    [-7.7, 2.5],\n",
    "    [-2.6, 6.4],\n",
    "    [1.1, 13.4],\n",
    "    [1.9, 13.0],\n",
    "    [0.6, 11.2],\n",
    "    [2.9, 10.4],\n",
    "    [2.5, 15.3],\n",
    "    [1.5, 17.0],\n",
    "    [0.3, 14.6],\n",
    "    [2.3, 10.5],\n",
    "    [-3.5, 11.0],\n",
    "    [-4.8, 12.6],\n",
    "    [-4.9, 8.7],\n",
    "    [-4.5, 9.1],\n",
    "    [1.5, 6.8],\n",
    "    [-1.9, 8.4],\n",
    "    [-4.2, 11.3],\n",
    "    [-4.7, 12.5],\n",
    "    [1.8, 10.0],\n",
    "    [0.2, 8.0],\n",
    "    [-1.0, 10.1],\n",
    "    [-0.2, 8.8],\n",
    "    [-1.7, 11.7],\n",
    "    [-3.4, 9.1],\n",
    "    [1.6, 13.8],\n",
    "    [-0.9, 14.5]\n",
    "]\n",
    "\n",
    "averages = [\n",
    "    [2.9],\n",
    "    [3.4],\n",
    "    [0.4],\n",
    "    [-3.5],\n",
    "    [-2.1],\n",
    "    [1.6],\n",
    "    [6.0],\n",
    "    [7.1],\n",
    "    [5.4],\n",
    "    [6.4],\n",
    "    [7.6],\n",
    "    [8.5],\n",
    "    [7.4],\n",
    "    [6.1],\n",
    "    [3.2],\n",
    "    [3.7],\n",
    "    [1.7],\n",
    "    [2.9],\n",
    "    [3.2],\n",
    "    [2.5],\n",
    "    [3.2],\n",
    "    [4.4],\n",
    "    [5.4],\n",
    "    [4.4],\n",
    "    [3.6],\n",
    "    [4.8],\n",
    "    [5.1],\n",
    "    [0.9],\n",
    "    [6.6],\n",
    "    [7.2]\n",
    "]"
   ]
  },
  {
   "cell_type": "markdown",
   "id": "089b8f43-ea01-4753-a52f-bfd1e23d948d",
   "metadata": {},
   "source": [
    "## Configure Options"
   ]
  },
  {
   "cell_type": "code",
   "execution_count": null,
   "id": "e8f030f9-6f9c-445b-b0f5-9f6b2118c865",
   "metadata": {
    "tags": []
   },
   "outputs": [],
   "source": [
    "options = HighchartsOptions(\n",
    "    \n",
    "    title = {\n",
    "        'text': 'April temperatures in Nesbyen, 2024', \n",
    "        'align': 'left'\n",
    "    },\n",
    "    \n",
    "    subtitle = {\n",
    "        'text': 'Source: <a href=\"https://www.yr.no/nb/historikk/graf/1-113585/Norge/Buskerud/Nesbyen/Nesbyen?q=2024-04\" target=\"_blank\">YR</a>',\n",
    "        'align': 'left'\n",
    "    },\n",
    "    \n",
    "    x_axis = {\n",
    "        'type': 'datetime',\n",
    "        'accessibility': {\n",
    "            'range_description': 'Range: April 1st 2022 to April 30th 2024.'\n",
    "        }\n",
    "    },\n",
    "    \n",
    "    y_axis = {\n",
    "        'title': {\n",
    "            'text': None\n",
    "        }\n",
    "    },\n",
    "    \n",
    "    tooltip = {\n",
    "        'crosshairs': True,\n",
    "        'shared': True,\n",
    "        'value_suffix': '°C'\n",
    "    },\n",
    "\n",
    "    plot_options = {\n",
    "        'series': {\n",
    "            'point_start': '2024-05-01',\n",
    "            'point_interval_unit': 'day'\n",
    "        }\n",
    "    }\n",
    "    \n",
    ")"
   ]
  },
  {
   "cell_type": "markdown",
   "id": "29dd6f1a-5ac3-49d7-a314-53ebdcf7e9db",
   "metadata": {},
   "source": [
    "## Populate Series with Data"
   ]
  },
  {
   "cell_type": "code",
   "execution_count": null,
   "id": "8845dc84-5012-4f35-be9b-5b8ed8cc77b9",
   "metadata": {},
   "outputs": [],
   "source": [
    "# Averages series\n",
    "averages_series = LineSeries(\n",
    "    name = 'Temperature',\n",
    "    data = averages,\n",
    "    z_index = 1,\n",
    "    marker = {\n",
    "        'fill_color': 'white',\n",
    "        'line_width': 2\n",
    "    }\n",
    ")\n",
    "\n",
    "# Range series\n",
    "range_series = AreaRangeSeries(\n",
    "    name = 'Range',\n",
    "    data = ranges,\n",
    "    line_width = 0,\n",
    "    linked_to = ':previous',\n",
    "    fill_opacity = 0.3,\n",
    "    z_index = 0,\n",
    "    marker = {\n",
    "        'enabled': False\n",
    "    }\n",
    ")"
   ]
  },
  {
   "cell_type": "markdown",
   "id": "b06bf4c1-988c-49de-994e-96d6948a440e",
   "metadata": {},
   "source": [
    "## Assemble Chart and Options"
   ]
  },
  {
   "cell_type": "code",
   "execution_count": null,
   "id": "98422472-6be0-4c46-9945-c7e67b8bcaee",
   "metadata": {},
   "outputs": [],
   "source": [
    "options.add_series(range_series, averages_series)\n",
    "chart = Chart.from_options(options)"
   ]
  },
  {
   "cell_type": "markdown",
   "id": "630af106-ac3d-456e-97de-aa07801b4b4c",
   "metadata": {},
   "source": [
    "## Render Visualization"
   ]
  },
  {
   "cell_type": "code",
   "execution_count": null,
   "id": "57aa98fa-be9a-462c-8b07-eb2e97de4f13",
   "metadata": {
    "tags": []
   },
   "outputs": [],
   "source": [
    "chart.display()"
   ]
  },
  {
   "cell_type": "code",
   "execution_count": null,
   "id": "d7b3b207-476b-4015-84e6-6bba06e6129d",
   "metadata": {},
   "outputs": [],
   "source": []
  }
 ],
 "metadata": {
  "kernelspec": {
   "display_name": "Python 3 (ipykernel)",
   "language": "python",
   "name": "python3"
  },
  "language_info": {
   "codemirror_mode": {
    "name": "ipython",
    "version": 3
   },
   "file_extension": ".py",
   "mimetype": "text/x-python",
   "name": "python",
   "nbconvert_exporter": "python",
   "pygments_lexer": "ipython3",
   "version": "3.11.9"
  }
 },
 "nbformat": 4,
 "nbformat_minor": 5
}
