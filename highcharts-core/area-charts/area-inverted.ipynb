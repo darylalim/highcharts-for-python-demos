{
 "cells": [
  {
   "cell_type": "markdown",
   "id": "3d033821-eebd-4e56-8d75-1640001f6451",
   "metadata": {},
   "source": [
    "# Area chart with inverted axes\n",
    "This chart demonstrates an inverted area chart with a floating legend. \n",
    "Inverted charts can often be a good choice on smaller screens, as most users find it easier to scroll vertically to see more data compared to scrolling horizontally."
   ]
  },
  {
   "cell_type": "markdown",
   "id": "19324d42-e2dd-41a3-a12f-ca8fbceda5ec",
   "metadata": {},
   "source": [
    "## Import Dependencies"
   ]
  },
  {
   "cell_type": "code",
   "execution_count": null,
   "id": "9962170c-4f90-41f7-873e-0599ab54c046",
   "metadata": {
    "tags": []
   },
   "outputs": [],
   "source": [
    "from highcharts_core.chart import Chart\n",
    "from highcharts_core.options import HighchartsOptions"
   ]
  },
  {
   "cell_type": "markdown",
   "id": "131fd3c7-bacc-4bfb-ae09-d5800a7be170",
   "metadata": {},
   "source": [
    "## Configure Options"
   ]
  },
  {
   "cell_type": "code",
   "execution_count": null,
   "id": "3c274c54-ddde-40de-b650-b7a5a001ab77",
   "metadata": {
    "tags": []
   },
   "outputs": [],
   "source": [
    "# Data retrieved from https://companiesmarketcap.com/\n",
    "\n",
    "options_as_str = \"\"\"{\n",
    "    chart: {\n",
    "        type: 'area',\n",
    "        inverted: true\n",
    "    },\n",
    "    title: {\n",
    "        text: 'Alibaba and Meta (Facebook) revenue'\n",
    "    },\n",
    "    accessibility: {\n",
    "        keyboardNavigation: {\n",
    "            seriesNavigation: {\n",
    "                mode: 'serialize'\n",
    "            }\n",
    "        }\n",
    "    },\n",
    "    tooltip: {\n",
    "        pointFormat: '• {series.name}: <b>${point.y} B</b>'\n",
    "    },\n",
    "    legend: {\n",
    "        layout: 'vertical',\n",
    "        align: 'right',\n",
    "        verticalAlign: 'top',\n",
    "        x: -150,\n",
    "        y: 100,\n",
    "        floating: true,\n",
    "        borderWidth: 1,\n",
    "        backgroundColor: '#FFFFFF'\n",
    "    },\n",
    "    yAxis: {\n",
    "        labels: {\n",
    "            format: '${text}'\n",
    "        },\n",
    "        title: {\n",
    "            text: 'Revenue (billions USD)'\n",
    "        }\n",
    "    },\n",
    "    plotOptions: {\n",
    "        series: {\n",
    "            label: {\n",
    "                enabled: false\n",
    "            },\n",
    "            pointStart: 2014\n",
    "        },\n",
    "        area: {\n",
    "            fillOpacity: 0.5\n",
    "        }\n",
    "    },\n",
    "    series: [{\n",
    "        name: 'Alibaba',\n",
    "        data: [\n",
    "            11.44, 14.89, 21.40, 34.03, 51.52,\n",
    "            70.49, 94.46, 129.44, 127.84, 130.80\n",
    "        ]\n",
    "    }, {\n",
    "        name: 'Meta (Facebook)',\n",
    "        data: [\n",
    "            11.49, 17.08, 26.88, 39.94, 55.01,\n",
    "            69.65, 84.17, 117.93, 116.61, 134.90\n",
    "        ]\n",
    "    }]\n",
    "}\"\"\""
   ]
  },
  {
   "cell_type": "markdown",
   "id": "089b8f43-ea01-4753-a52f-bfd1e23d948d",
   "metadata": {},
   "source": [
    "## Assemble Chart and Options"
   ]
  },
  {
   "cell_type": "code",
   "execution_count": null,
   "id": "e8f030f9-6f9c-445b-b0f5-9f6b2118c865",
   "metadata": {
    "tags": []
   },
   "outputs": [],
   "source": [
    "options = HighchartsOptions.from_js_literal(options_as_str)\n",
    "chart = Chart.from_options(options)"
   ]
  },
  {
   "cell_type": "markdown",
   "id": "b06bf4c1-988c-49de-994e-96d6948a440e",
   "metadata": {},
   "source": [
    "## Render Visualization"
   ]
  },
  {
   "cell_type": "code",
   "execution_count": null,
   "id": "57aa98fa-be9a-462c-8b07-eb2e97de4f13",
   "metadata": {
    "tags": []
   },
   "outputs": [],
   "source": [
    "chart.display()"
   ]
  },
  {
   "cell_type": "code",
   "execution_count": null,
   "id": "d7b3b207-476b-4015-84e6-6bba06e6129d",
   "metadata": {},
   "outputs": [],
   "source": []
  }
 ],
 "metadata": {
  "kernelspec": {
   "display_name": "Python 3 (ipykernel)",
   "language": "python",
   "name": "python3"
  },
  "language_info": {
   "codemirror_mode": {
    "name": "ipython",
    "version": 3
   },
   "file_extension": ".py",
   "mimetype": "text/x-python",
   "name": "python",
   "nbconvert_exporter": "python",
   "pygments_lexer": "ipython3",
   "version": "3.11.9"
  }
 },
 "nbformat": 4,
 "nbformat_minor": 5
}
