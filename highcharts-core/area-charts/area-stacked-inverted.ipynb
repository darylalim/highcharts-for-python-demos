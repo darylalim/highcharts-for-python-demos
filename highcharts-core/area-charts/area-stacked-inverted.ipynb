{
 "cells": [
  {
   "cell_type": "markdown",
   "id": "3d033821-eebd-4e56-8d75-1640001f6451",
   "metadata": {},
   "source": [
    "# Stacked inverted area chart\n",
    "This notebook demonstrates a stacked inverted area chart."
   ]
  },
  {
   "cell_type": "markdown",
   "id": "19324d42-e2dd-41a3-a12f-ca8fbceda5ec",
   "metadata": {},
   "source": [
    "## Import Dependencies"
   ]
  },
  {
   "cell_type": "code",
   "execution_count": null,
   "id": "9962170c-4f90-41f7-873e-0599ab54c046",
   "metadata": {
    "tags": []
   },
   "outputs": [],
   "source": [
    "from highcharts_core.chart import Chart\n",
    "from highcharts_core.options import HighchartsOptions"
   ]
  },
  {
   "cell_type": "markdown",
   "id": "131fd3c7-bacc-4bfb-ae09-d5800a7be170",
   "metadata": {},
   "source": [
    "## Configure Options"
   ]
  },
  {
   "cell_type": "code",
   "execution_count": null,
   "id": "3c274c54-ddde-40de-b650-b7a5a001ab77",
   "metadata": {
    "tags": []
   },
   "outputs": [],
   "source": [
    "options_as_str = \"\"\"{\n",
    "    colors: [\n",
    "        '#331E36',\n",
    "        '#41337A',\n",
    "        '#6EA4BF',\n",
    "        '#98CAD5',\n",
    "        '#C2EFEB',\n",
    "        '#ECFEE8',\n",
    "        '#ECFEE8'\n",
    "    ],\n",
    "    chart: {\n",
    "        type: 'areaspline',\n",
    "        inverted: true\n",
    "    },\n",
    "    title: {\n",
    "        text: 'MSIS atmospheric composition by height',\n",
    "        align: 'left'\n",
    "    },\n",
    "    subtitle: {\n",
    "        text: 'Source: <a href=\"https://en.wikipedia.org/wiki/Atmosphere_of_Earth\" target=\"_blank\">Wikipedia.org</a>',\n",
    "        align: 'left'\n",
    "    },\n",
    "    xAxis: {\n",
    "        tickmarkPlacement: 'on',\n",
    "        title: {\n",
    "            text: 'Height (km)'\n",
    "        },\n",
    "        opposite: true,\n",
    "        reversed: false,\n",
    "        crosshair: true\n",
    "    },\n",
    "    yAxis: {\n",
    "        title: {\n",
    "            text: 'Volume fraction'\n",
    "        },\n",
    "        labels: {\n",
    "            format: '{value} %'\n",
    "        },\n",
    "        reversedStacks: false\n",
    "    },\n",
    "    tooltip: {\n",
    "        shared: true,\n",
    "        headerFormat: '<table>',\n",
    "        // pointFormat: `<tr>\n",
    "            // <td><span style=\"color:{series.color};\">•</span></td>\n",
    "            // <td>{series.name}</td>\n",
    "            // <td style=\"text-align: right\"><b>{point.y} %</b></td>\n",
    "        // </tr>`,\n",
    "        footerFormat: '</table>',\n",
    "        useHTML: true\n",
    "    },\n",
    "    plotOptions: {\n",
    "        areaspline: {\n",
    "            stacking: 'percent',\n",
    "            lineColor: '#666666',\n",
    "            pointInterval: 100,\n",
    "            lineWidth: 1,\n",
    "            marker: {\n",
    "                enabled: false,\n",
    "                symbol: 'circle',\n",
    "                fillColor: '#666666',\n",
    "                lineColor: '#666666',\n",
    "                radius: 1\n",
    "            },\n",
    "            label: {\n",
    "                style: {\n",
    "                    fontSize: '16px'\n",
    "                }\n",
    "            },\n",
    "            states: {\n",
    "                hover: {\n",
    "                    halo: {\n",
    "                        size: 0\n",
    "                    }\n",
    "                }\n",
    "            }\n",
    "        }\n",
    "    },\n",
    "    series: [\n",
    "        {\n",
    "            name: 'N2',\n",
    "            data: [78, 76, 38, 10, 2.5, 0, 0, 0, 0, 0, 0]\n",
    "        },\n",
    "        {\n",
    "            name: 'O2',\n",
    "            data: [21, 20, 2, 0.5, 0, 0, 0, 0, 0, 0, 0]\n",
    "        },\n",
    "        {\n",
    "            name: 'O',\n",
    "            data: [0, 3, 59, 84, 70, 32, 8, 3, 1, 0, 0]\n",
    "        },\n",
    "        {\n",
    "            name: 'Ar',\n",
    "            data: [1, 1, 0, 0, 0, 0, 0, 0, 0, 0, 0]\n",
    "        },\n",
    "        {\n",
    "            name: 'He',\n",
    "            data: [0, 0, 1, 5, 25, 62, 82, 82, 78, 71, 62]\n",
    "        },\n",
    "        {\n",
    "            name: 'H',\n",
    "            data: [0, 0, 0, 0.5, 2.5, 6, 10, 15, 21, 29, 38]\n",
    "        }\n",
    "    ]\n",
    "}\"\"\""
   ]
  },
  {
   "cell_type": "markdown",
   "id": "089b8f43-ea01-4753-a52f-bfd1e23d948d",
   "metadata": {},
   "source": [
    "## Assemble Chart and Options"
   ]
  },
  {
   "cell_type": "code",
   "execution_count": null,
   "id": "e8f030f9-6f9c-445b-b0f5-9f6b2118c865",
   "metadata": {
    "tags": []
   },
   "outputs": [],
   "source": [
    "options = HighchartsOptions.from_js_literal(options_as_str)\n",
    "chart = Chart.from_options(options)"
   ]
  },
  {
   "cell_type": "markdown",
   "id": "b06bf4c1-988c-49de-994e-96d6948a440e",
   "metadata": {},
   "source": [
    "## Render Visualization"
   ]
  },
  {
   "cell_type": "code",
   "execution_count": null,
   "id": "57aa98fa-be9a-462c-8b07-eb2e97de4f13",
   "metadata": {
    "tags": []
   },
   "outputs": [],
   "source": [
    "chart.display()"
   ]
  },
  {
   "cell_type": "code",
   "execution_count": null,
   "id": "d7b3b207-476b-4015-84e6-6bba06e6129d",
   "metadata": {},
   "outputs": [],
   "source": []
  }
 ],
 "metadata": {
  "kernelspec": {
   "display_name": "Python 3 (ipykernel)",
   "language": "python",
   "name": "python3"
  },
  "language_info": {
   "codemirror_mode": {
    "name": "ipython",
    "version": 3
   },
   "file_extension": ".py",
   "mimetype": "text/x-python",
   "name": "python",
   "nbconvert_exporter": "python",
   "pygments_lexer": "ipython3",
   "version": "3.11.9"
  }
 },
 "nbformat": 4,
 "nbformat_minor": 5
}
