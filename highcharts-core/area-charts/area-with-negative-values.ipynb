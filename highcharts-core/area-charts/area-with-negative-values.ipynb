{
 "cells": [
  {
   "cell_type": "markdown",
   "id": "3d033821-eebd-4e56-8d75-1640001f6451",
   "metadata": {},
   "source": [
    "# Area with negative values\n",
    "A simple demo showcasing an area chart with negative values and multiple data series. \n",
    "Note that interacting with one data series will dim the others, making it easier to distinguish between them."
   ]
  },
  {
   "cell_type": "markdown",
   "id": "19324d42-e2dd-41a3-a12f-ca8fbceda5ec",
   "metadata": {},
   "source": [
    "## Import Dependencies"
   ]
  },
  {
   "cell_type": "code",
   "execution_count": null,
   "id": "9962170c-4f90-41f7-873e-0599ab54c046",
   "metadata": {
    "tags": []
   },
   "outputs": [],
   "source": [
    "from highcharts_core.chart import Chart\n",
    "from highcharts_core.options import HighchartsOptions"
   ]
  },
  {
   "cell_type": "markdown",
   "id": "131fd3c7-bacc-4bfb-ae09-d5800a7be170",
   "metadata": {},
   "source": [
    "## Configure Options"
   ]
  },
  {
   "cell_type": "code",
   "execution_count": null,
   "id": "3c274c54-ddde-40de-b650-b7a5a001ab77",
   "metadata": {
    "tags": []
   },
   "outputs": [],
   "source": [
    "options_as_str = \"\"\"{\n",
    "    chart: {\n",
    "        type: 'area'\n",
    "    },\n",
    "    title: {\n",
    "        text: 'Production, consumption and trade surplus of electrical power'\n",
    "    },\n",
    "    subtitle: {\n",
    "        text: 'Source: <a href=\"https://www.ssb.no/energi-og-industri/energi/statistikk/elektrisitet/artikler/lavere-kraftproduksjon\" target=\"_blank\">SSB</a>'\n",
    "    },\n",
    "    xAxis: {\n",
    "        categories: [\n",
    "            'Q1 2019', 'Q2 2019', 'Q3 2019', 'Q4 2019', 'Q1 2020', 'Q2 2020',\n",
    "            'Q3 2020', 'Q4 2020', 'Q1 2021', 'Q2 2021', 'Q3 2021'\n",
    "        ]\n",
    "    },\n",
    "    yAxis: {\n",
    "        title: {\n",
    "            text: 'TWh'\n",
    "        }\n",
    "    },\n",
    "    credits: {\n",
    "        enabled: false\n",
    "    },\n",
    "    plotOptions: {\n",
    "        series: {\n",
    "            label: {\n",
    "                enabled: false\n",
    "            }\n",
    "        }\n",
    "    },\n",
    "    series: [{\n",
    "        name: 'Total production',\n",
    "        data: [\n",
    "            37.8, 29.3, 30.8, 36.8, 40.5, 35.3, 34.9, 43.6, 45.7, 35.9, 32.7\n",
    "        ]\n",
    "    }, {\n",
    "        name: 'Gross consumption',\n",
    "        data: [\n",
    "            39.9, 29.9, 26.7, 38.1, 39.3, 30.2, 27.5, 36.7, 42.7, 31.4, 27.5\n",
    "        ]\n",
    "    }, {\n",
    "        name: 'Trade surplus',\n",
    "        data: [-2.2, -0.6, 4.1, -1.3, 1.2, 5.1, 7.4, 6.9, 2.9, 4.5, 5.2]\n",
    "    }]\n",
    "}\"\"\""
   ]
  },
  {
   "cell_type": "markdown",
   "id": "089b8f43-ea01-4753-a52f-bfd1e23d948d",
   "metadata": {},
   "source": [
    "## Assemble Chart and Options"
   ]
  },
  {
   "cell_type": "code",
   "execution_count": null,
   "id": "e8f030f9-6f9c-445b-b0f5-9f6b2118c865",
   "metadata": {
    "tags": []
   },
   "outputs": [],
   "source": [
    "options = HighchartsOptions.from_js_literal(options_as_str)\n",
    "chart = Chart.from_options(options)"
   ]
  },
  {
   "cell_type": "markdown",
   "id": "b06bf4c1-988c-49de-994e-96d6948a440e",
   "metadata": {},
   "source": [
    "## Render Visualization"
   ]
  },
  {
   "cell_type": "code",
   "execution_count": null,
   "id": "57aa98fa-be9a-462c-8b07-eb2e97de4f13",
   "metadata": {
    "tags": []
   },
   "outputs": [],
   "source": [
    "chart.display()"
   ]
  },
  {
   "cell_type": "code",
   "execution_count": null,
   "id": "d7b3b207-476b-4015-84e6-6bba06e6129d",
   "metadata": {},
   "outputs": [],
   "source": []
  }
 ],
 "metadata": {
  "kernelspec": {
   "display_name": "Python 3 (ipykernel)",
   "language": "python",
   "name": "python3"
  },
  "language_info": {
   "codemirror_mode": {
    "name": "ipython",
    "version": 3
   },
   "file_extension": ".py",
   "mimetype": "text/x-python",
   "name": "python",
   "nbconvert_exporter": "python",
   "pygments_lexer": "ipython3",
   "version": "3.11.9"
  }
 },
 "nbformat": 4,
 "nbformat_minor": 5
}
