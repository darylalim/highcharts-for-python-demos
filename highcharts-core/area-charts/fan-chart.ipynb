{
 "cells": [
  {
   "cell_type": "markdown",
   "id": "3d033821-eebd-4e56-8d75-1640001f6451",
   "metadata": {},
   "source": [
    "# Fan chart\n",
    "A fan chart of the Europen Union's GDP. In a fan chart, the observed past data shows as a line series to be joined with a series of estimated ranges growing around the main forecast values."
   ]
  },
  {
   "cell_type": "markdown",
   "id": "19324d42-e2dd-41a3-a12f-ca8fbceda5ec",
   "metadata": {},
   "source": [
    "## Import Dependencies"
   ]
  },
  {
   "cell_type": "code",
   "execution_count": null,
   "id": "9962170c-4f90-41f7-873e-0599ab54c046",
   "metadata": {
    "tags": []
   },
   "outputs": [],
   "source": [
    "from highcharts_core.chart import Chart\n",
    "from highcharts_core.options import HighchartsOptions"
   ]
  },
  {
   "cell_type": "markdown",
   "id": "131fd3c7-bacc-4bfb-ae09-d5800a7be170",
   "metadata": {},
   "source": [
    "## Configure Options"
   ]
  },
  {
   "cell_type": "code",
   "execution_count": null,
   "id": "3c274c54-ddde-40de-b650-b7a5a001ab77",
   "metadata": {
    "tags": []
   },
   "outputs": [],
   "source": [
    "options_as_str = \"\"\"{\n",
    "    chart: {\n",
    "        type: 'arearange',\n",
    "        zooming: {\n",
    "            type: 'x'\n",
    "        }\n",
    "    },\n",
    "    title: {\n",
    "        text: 'EU GDP'\n",
    "    },\n",
    "    subtitle: {\n",
    "        text: '<a href=\"https://economy-finance.ec.europa.eu/system/files/2023-05/SF_2023_Statistical%20Annex.pdf\" target=\"_blank\">European Economic Forecast, Spring 2023</a>'\n",
    "    },\n",
    "    xAxis: {\n",
    "        type: 'category',\n",
    "        accessibility: {\n",
    "            rangeDescription: 'Range: 2022 to 2024.'\n",
    "        },\n",
    "        min: 1,\n",
    "        max: 12,\n",
    "        endOnTick: false,\n",
    "        plotBands: [{\n",
    "            color: 'rgba(255, 75, 66, 0.07)',\n",
    "            from: 5.5,\n",
    "            to: 99,\n",
    "            label: {\n",
    "                text: 'Forecast'\n",
    "            }\n",
    "        }],\n",
    "        plotLines: [{\n",
    "            dashStyle: 'Dash',\n",
    "            color: '#6b8abc',\n",
    "            width: 2,\n",
    "            value: 5.5\n",
    "        }]\n",
    "    },\n",
    "    yAxis: {\n",
    "        opposite: true,\n",
    "        title: {\n",
    "            text: 'GDP change<br/>on preceding year'\n",
    "        },\n",
    "        labels: {\n",
    "            format: '{value}%'\n",
    "        },\n",
    "        max: 30\n",
    "    },\n",
    "    tooltip: {\n",
    "        crosshairs: true,\n",
    "        shared: true,\n",
    "        valueSuffix: '%',\n",
    "        valuePrefix: '+'\n",
    "    },\n",
    "    responsive: {\n",
    "        rules: [{\n",
    "            chartOptions: {\n",
    "                xAxis: {\n",
    "                    labels: {\n",
    "                        staggerLines: 2\n",
    "                    }\n",
    "                }\n",
    "            },\n",
    "            condition: {\n",
    "                minWidth: 540\n",
    "            }\n",
    "        }]\n",
    "    },\n",
    "    plotOptions: {\n",
    "        series: {\n",
    "            label: {\n",
    "                enabled: false\n",
    "            },\n",
    "            marker: {\n",
    "                enabled: false\n",
    "            }\n",
    "        },\n",
    "        arearange: {\n",
    "            enableMouseTracking: false,\n",
    "            states: {\n",
    "                inactive: {\n",
    "                    enabled: false\n",
    "                }\n",
    "            },\n",
    "            color: '#fa4b42',\n",
    "            fillOpacity: 0.33,\n",
    "            lineWidth: 0\n",
    "        }\n",
    "    },\n",
    "    legend: {\n",
    "        enabled: false\n",
    "    },\n",
    "    series: [{\n",
    "        name: 'EU GDP',\n",
    "        type: 'line',\n",
    "        data: [\n",
    "            ['2021', 5.4],\n",
    "            ['Q1.2022', 5.7],\n",
    "            ['Q2.2022', 4.4],\n",
    "            ['Q3.2022', 2.6],\n",
    "            ['Q4.2022', 1.7],\n",
    "            ['Q1.2023', 1.3],\n",
    "            ['Q2.2023', 0.6],\n",
    "            ['Q3.2023', 0.6],\n",
    "            ['Q4.2023', 1.1],\n",
    "            ['Q1.2024', 1.3],\n",
    "            ['Q2.2024', 1.5],\n",
    "            ['Q3.2024', 1.6],\n",
    "            ['Q4.2024', 1.7],\n",
    "            ['2025', 1.7]\n",
    "        ],\n",
    "        zIndex: 2,\n",
    "        color: '#fa4b42',\n",
    "        lineWidth: 4\n",
    "    }, {\n",
    "        name: '1σ',\n",
    "        data: [\n",
    "            ['Q1.2023', 1.3, 1.3],\n",
    "            ['Q2.2023', -3.4, 4.6],\n",
    "            ['Q3.2023', -3.4, 4.6],\n",
    "            ['Q4.2023', -2.9, 5.1],\n",
    "            ['Q1.2024', -2.7, 5.3],\n",
    "            ['Q2.2024', -2.5, 5.5],\n",
    "            ['Q3.2024', -2.4, 5.6],\n",
    "            ['Q4.2024', -2.3, 5.7],\n",
    "            ['2025', -2.3, 5.7]\n",
    "        ]\n",
    "    }, {\n",
    "        name: '2σ',\n",
    "        data: [\n",
    "            ['Q1.2023', 1.3, 1.3],\n",
    "            ['Q2.2023', -7.4, 8.6],\n",
    "            ['Q3.2023', -7.4, 8.6],\n",
    "            ['Q4.2023', -6.9, 9.1],\n",
    "            ['Q1.2024', -6.7, 9.3],\n",
    "            ['Q2.2024', -6.5, 9.5],\n",
    "            ['Q3.2024', -6.4, 9.6],\n",
    "            ['Q4.2024', -6.3, 9.7],\n",
    "            ['2025', -6.3, 9.7]\n",
    "        ]\n",
    "    }, {\n",
    "        name: '3σ',\n",
    "        data: [\n",
    "            ['Q1.2023', 1.3, 1.3],\n",
    "            ['Q2.2023', -11.4, 12.6],\n",
    "            ['Q3.2023', -11.4, 12.6],\n",
    "            ['Q4.2023', -10.9, 13.1],\n",
    "            ['Q1.2024', -10.7, 13.3],\n",
    "            ['Q2.2024', -10.5, 13.5],\n",
    "            ['Q3.2024', -10.4, 13.6],\n",
    "            ['Q4.2024', -10.3, 13.7],\n",
    "            ['2025', -10.3, 13.7]\n",
    "        ]\n",
    "    }]\n",
    "}\"\"\""
   ]
  },
  {
   "cell_type": "markdown",
   "id": "089b8f43-ea01-4753-a52f-bfd1e23d948d",
   "metadata": {},
   "source": [
    "## Assemble Chart and Options"
   ]
  },
  {
   "cell_type": "code",
   "execution_count": null,
   "id": "e8f030f9-6f9c-445b-b0f5-9f6b2118c865",
   "metadata": {
    "tags": []
   },
   "outputs": [],
   "source": [
    "options = HighchartsOptions.from_js_literal(options_as_str)\n",
    "chart = Chart.from_options(options)"
   ]
  },
  {
   "cell_type": "markdown",
   "id": "b06bf4c1-988c-49de-994e-96d6948a440e",
   "metadata": {},
   "source": [
    "## Render Visualization"
   ]
  },
  {
   "cell_type": "code",
   "execution_count": null,
   "id": "57aa98fa-be9a-462c-8b07-eb2e97de4f13",
   "metadata": {
    "tags": []
   },
   "outputs": [],
   "source": [
    "chart.display()"
   ]
  },
  {
   "cell_type": "code",
   "execution_count": null,
   "id": "d7b3b207-476b-4015-84e6-6bba06e6129d",
   "metadata": {},
   "outputs": [],
   "source": []
  }
 ],
 "metadata": {
  "kernelspec": {
   "display_name": "Python 3 (ipykernel)",
   "language": "python",
   "name": "python3"
  },
  "language_info": {
   "codemirror_mode": {
    "name": "ipython",
    "version": 3
   },
   "file_extension": ".py",
   "mimetype": "text/x-python",
   "name": "python",
   "nbconvert_exporter": "python",
   "pygments_lexer": "ipython3",
   "version": "3.11.9"
  }
 },
 "nbformat": 4,
 "nbformat_minor": 5
}
