{
 "cells": [
  {
   "cell_type": "markdown",
   "id": "0e8dd158-ee17-4d09-af9f-7063befe8c85",
   "metadata": {},
   "source": [
    "# Stacked area\n",
    "A demo showing a stacked area chart, also sometimes referred to as a mountain chart. In a stacked chart, the data series values are added together to make up a total."
   ]
  },
  {
   "cell_type": "markdown",
   "id": "53867965-78f2-4fb9-b970-df942a8e81ba",
   "metadata": {},
   "source": [
    "## Import Dependencies"
   ]
  },
  {
   "cell_type": "code",
   "execution_count": null,
   "id": "0afd1804-2196-4b8d-9585-42ede12d7a3f",
   "metadata": {},
   "outputs": [],
   "source": [
    "from highcharts_core.chart import Chart"
   ]
  },
  {
   "cell_type": "markdown",
   "id": "9b434d45-a9f7-4068-a598-b9c26fd14aca",
   "metadata": {},
   "source": [
    "## Configure Options"
   ]
  },
  {
   "cell_type": "code",
   "execution_count": null,
   "id": "061bc5eb-ddc2-4268-ac1d-62f05fafddf8",
   "metadata": {},
   "outputs": [],
   "source": [
    "options = {\n",
    "    'chart': {\n",
    "        'type': 'area'\n",
    "    },\n",
    "    'title': {\n",
    "        'text': 'Greenhouse gases from Norwegian economic activity'\n",
    "    },\n",
    "    'subtitle': {\n",
    "        'text': \"\"\"Source: <a href=\"https://www.ssb.no/en/statbank/table/09288/\" target=\"_blank\">SSB</a>\"\"\"\n",
    "    },\n",
    "    'yAxis': {\n",
    "        'title': {\n",
    "            'useHTML': True,\n",
    "            'text': 'Million tonnes CO<sub>2</sub>-equivalents'\n",
    "        }\n",
    "    },\n",
    "    'tooltip': {\n",
    "        'shared': True,\n",
    "        'headerFormat': '<span style=\"font-size:12px\"><b>{point.key}</b></span><br>'\n",
    "    },\n",
    "    'plotOptions': {\n",
    "        'series': {\n",
    "            'pointStart': 2012\n",
    "        },\n",
    "        'area': {\n",
    "            'stacking': 'normal',\n",
    "            'lineColor': '#666666',\n",
    "            'lineWidth': 1,\n",
    "            'marker': {\n",
    "                'lineWidth': 1,\n",
    "                'lineColor': '#666666'\n",
    "            }\n",
    "        }\n",
    "    },\n",
    "    'series': [{\n",
    "        'name': 'Ocean transport',\n",
    "        'data': [\n",
    "            13234, 12729, 11533, 17798, 10398, 12811,\n",
    "            15483, 16196, 15060, 13365, 13301\n",
    "        ]\n",
    "    }, {\n",
    "        'name': 'Households',\n",
    "        'data': [\n",
    "            6686, 6536, 6389, 6384, 6251, 5719,\n",
    "            5611, 5040, 5079, 5088, 4988\n",
    "        ]\n",
    "    }, {\n",
    "        'name': 'Agriculture and hunting',\n",
    "        'data': [\n",
    "            4812, 4872, 4961, 5001, 5070, 5035,\n",
    "            5045, 5004, 5015, 5076, 4935\n",
    "        ]\n",
    "    }, {\n",
    "        'name': 'Air transport',\n",
    "        'data': [\n",
    "            3502, 3844, 4139, 4351, 3802, 4020,\n",
    "            4461, 5074, 1558, 1247, 2694\n",
    "        ]\n",
    "    }, {\n",
    "        'name': 'Construction',\n",
    "        'data': [\n",
    "            2019, 2189, 2150, 2217, 2179, 2258,\n",
    "            2348, 2196, 2018, 2180, 2127\n",
    "        ]\n",
    "    }]\n",
    "}"
   ]
  },
  {
   "cell_type": "markdown",
   "id": "d8d8d111-f770-4734-a81b-d9629e981706",
   "metadata": {},
   "source": [
    "## Assemble Chart and Options"
   ]
  },
  {
   "cell_type": "code",
   "execution_count": null,
   "id": "74baf4b3-b080-49a3-9ef4-73edbecbb599",
   "metadata": {
    "tags": []
   },
   "outputs": [],
   "source": [
    "chart = Chart.from_options(options)"
   ]
  },
  {
   "cell_type": "markdown",
   "id": "ceea200c-6794-4bbc-8741-9a648b22673f",
   "metadata": {},
   "source": [
    "## Render Visualization"
   ]
  },
  {
   "cell_type": "code",
   "execution_count": null,
   "id": "39686367-1adc-401d-aa87-314f35061658",
   "metadata": {},
   "outputs": [],
   "source": [
    "chart.display()"
   ]
  }
 ],
 "metadata": {
  "kernelspec": {
   "display_name": "Python 3 (ipykernel)",
   "language": "python",
   "name": "python3"
  },
  "language_info": {
   "codemirror_mode": {
    "name": "ipython",
    "version": 3
   },
   "file_extension": ".py",
   "mimetype": "text/x-python",
   "name": "python",
   "nbconvert_exporter": "python",
   "pygments_lexer": "ipython3",
   "version": "3.11.9"
  }
 },
 "nbformat": 4,
 "nbformat_minor": 5
}
