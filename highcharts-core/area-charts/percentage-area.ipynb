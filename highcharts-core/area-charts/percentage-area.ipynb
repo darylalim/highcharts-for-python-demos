{
 "cells": [
  {
   "cell_type": "markdown",
   "id": "3d033821-eebd-4e56-8d75-1640001f6451",
   "metadata": {},
   "source": [
    "# Percentage area\n",
    "Chart demonstrating a percentage-stacked area chart, a variation of the stacked area chart where each data series is visualized as a running percentage of the total."
   ]
  },
  {
   "cell_type": "markdown",
   "id": "19324d42-e2dd-41a3-a12f-ca8fbceda5ec",
   "metadata": {},
   "source": [
    "## Import Dependencies"
   ]
  },
  {
   "cell_type": "code",
   "execution_count": null,
   "id": "9962170c-4f90-41f7-873e-0599ab54c046",
   "metadata": {
    "tags": []
   },
   "outputs": [],
   "source": [
    "from highcharts_core.chart import Chart\n",
    "from highcharts_core.options import HighchartsOptions"
   ]
  },
  {
   "cell_type": "markdown",
   "id": "131fd3c7-bacc-4bfb-ae09-d5800a7be170",
   "metadata": {},
   "source": [
    "## Configure Options"
   ]
  },
  {
   "cell_type": "code",
   "execution_count": null,
   "id": "3c274c54-ddde-40de-b650-b7a5a001ab77",
   "metadata": {
    "tags": []
   },
   "outputs": [],
   "source": [
    "options_as_str = \"\"\"{\n",
    "    chart: {\n",
    "        type: 'area'\n",
    "    },\n",
    "    title: {\n",
    "        useHTML: true,\n",
    "        text: 'Countries/regions with highest Gt CO<sub>2</sub>-emissions'\n",
    "    },\n",
    "    subtitle: {\n",
    "        text: 'Source: <a href=\"https://energiogklima.no/klimavakten/land-med-hoyest-utslipp/\" target=\"_blank\">Energi og Klima</a>'\n",
    "    },\n",
    "    accessibility: {\n",
    "        point: {\n",
    "            valueDescriptionFormat: '{index}. {point.category}, {point.y:,.1f} billions, {point.percentage:.1f}%.'\n",
    "        }\n",
    "    },\n",
    "    yAxis: {\n",
    "        labels: {\n",
    "            format: '{value}%'\n",
    "        },\n",
    "        title: {\n",
    "            enabled: false\n",
    "        }\n",
    "    },\n",
    "    tooltip: {\n",
    "        pointFormat: '<span style=\"color:{series.color}\">{series.name}</span>: <b>{point.percentage:.1f}%</b> ({point.y:,.1f} billion Gt)<br/>',\n",
    "        split: true\n",
    "    },\n",
    "    plotOptions: {\n",
    "        series: {\n",
    "            pointStart: 1990,\n",
    "            label: {\n",
    "                enabled: true,\n",
    "                style: {\n",
    "                    fontSize: '1.4em',\n",
    "                    opacity: 0.4\n",
    "                }\n",
    "            }\n",
    "        },\n",
    "        area: {\n",
    "            stacking: 'percent',\n",
    "            marker: {\n",
    "                enabled: false\n",
    "            }\n",
    "        }\n",
    "    },\n",
    "    series: [{\n",
    "        name: 'China',\n",
    "        data: [\n",
    "            2.5, 2.6, 2.7, 2.9, 3.1, 3.4, 3.5, 3.5, 3.4, 3.6, 3.6, 3.7,\n",
    "            4.1, 4.8, 5.2, 5.9, 6.5, 7, 7.5, 7.9, 8.6, 9.5, 9.8, 10, 10,\n",
    "            9.9, 9.8, 10, 10.4, 10.7, 10.9, 11.3, 11.4, 11.9\n",
    "        ]\n",
    "    }, {\n",
    "        name: 'USA',\n",
    "        data: [\n",
    "            5.1, 5.1, 5.2, 5.3, 5.4, 5.4, 5.6, 5.7, 5.7, 5.8, 6, 5.9, 5.9,\n",
    "            6, 6.1, 6.1, 6.1, 6.1, 5.9, 5.5, 5.7, 5.5, 5.3, 5.5, 5.5, 5.4,\n",
    "            5.3, 5.2, 5.4, 5.3, 4.7, 5, 5.1, 4.9\n",
    "        ]\n",
    "    }, {\n",
    "        name: 'EU',\n",
    "        data: [\n",
    "            3.9, 3.8, 3.7, 3.6, 3.6, 3.6, 3.7, 3.7, 3.6, 3.6, 3.6, 3.7, 3.7,\n",
    "            3.7, 3.8, 3.7, 3.7, 3.7, 3.6, 3.3, 3.4, 3.3, 3.3, 3.2, 3, 3.1,\n",
    "            3.1, 3.1, 3, 2.9, 2.6, 2.8, 2.8, 2.6\n",
    "        ]\n",
    "    }, {\n",
    "        name: 'India',\n",
    "        data: [\n",
    "            0.6, 0.6, 0.7, 0.7, 0.7, 0.8, 0.8, 0.9, 0.9, 1, 1, 1, 1, 1.1,\n",
    "            1.1, 1.2, 1.3, 1.4, 1.5, 1.6, 1.7, 1.8, 1.9, 2, 2.1, 2.2, 2.4,\n",
    "            2.4, 2.6, 2.6, 2.4, 2.7, 2.8, 3.1\n",
    "        ]\n",
    "    }]\n",
    "}\"\"\""
   ]
  },
  {
   "cell_type": "markdown",
   "id": "089b8f43-ea01-4753-a52f-bfd1e23d948d",
   "metadata": {},
   "source": [
    "## Assemble Chart and Options"
   ]
  },
  {
   "cell_type": "code",
   "execution_count": null,
   "id": "e8f030f9-6f9c-445b-b0f5-9f6b2118c865",
   "metadata": {
    "tags": []
   },
   "outputs": [],
   "source": [
    "options = HighchartsOptions.from_js_literal(options_as_str)\n",
    "chart = Chart.from_options(options)"
   ]
  },
  {
   "cell_type": "markdown",
   "id": "b06bf4c1-988c-49de-994e-96d6948a440e",
   "metadata": {},
   "source": [
    "## Render Visualization"
   ]
  },
  {
   "cell_type": "code",
   "execution_count": null,
   "id": "57aa98fa-be9a-462c-8b07-eb2e97de4f13",
   "metadata": {
    "tags": []
   },
   "outputs": [],
   "source": [
    "chart.display()"
   ]
  },
  {
   "cell_type": "code",
   "execution_count": null,
   "id": "d7b3b207-476b-4015-84e6-6bba06e6129d",
   "metadata": {},
   "outputs": [],
   "source": []
  }
 ],
 "metadata": {
  "kernelspec": {
   "display_name": "Python 3 (ipykernel)",
   "language": "python",
   "name": "python3"
  },
  "language_info": {
   "codemirror_mode": {
    "name": "ipython",
    "version": 3
   },
   "file_extension": ".py",
   "mimetype": "text/x-python",
   "name": "python",
   "nbconvert_exporter": "python",
   "pygments_lexer": "ipython3",
   "version": "3.11.9"
  }
 },
 "nbformat": 4,
 "nbformat_minor": 5
}
