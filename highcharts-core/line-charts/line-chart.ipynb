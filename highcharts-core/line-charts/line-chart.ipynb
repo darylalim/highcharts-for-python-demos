{
 "cells": [
  {
   "cell_type": "markdown",
   "id": "b61ab4e2-55d4-4159-96c0-b5ab12954d59",
   "metadata": {},
   "source": [
    "# Line chart\n",
    "Basic line chart showing trends in a dataset. This chart includes the series-label module, which adds a label to each line for enhanced readability."
   ]
  },
  {
   "cell_type": "markdown",
   "id": "36247b6d-8b86-4c54-9142-b47d3f994eca",
   "metadata": {
    "tags": []
   },
   "source": [
    "## Import Dependencies"
   ]
  },
  {
   "cell_type": "code",
   "execution_count": null,
   "id": "03fde0d1-880a-467a-9aac-777ebf7c59f3",
   "metadata": {
    "tags": []
   },
   "outputs": [],
   "source": [
    "from highcharts_core.chart import Chart\n",
    "from highcharts_core.options import HighchartsOptions\n",
    "from highcharts_core.options.series.labels import SeriesLabel\n",
    "from highcharts_core.options.responsive import Responsive, ResponsiveRules, Condition\n",
    "from highcharts_core.constants import EnforcedNull"
   ]
  },
  {
   "cell_type": "markdown",
   "id": "e0000636-b68e-488e-b15f-988ebc1d8b6a",
   "metadata": {},
   "source": [
    "## Configure Options"
   ]
  },
  {
   "cell_type": "code",
   "execution_count": null,
   "id": "c43f5727-3cde-45cb-837c-f54c64f47af0",
   "metadata": {},
   "outputs": [],
   "source": [
    "options_as_str = \"\"\"{\n",
    "\n",
    "    chart: {\n",
    "        type: 'line'\n",
    "    },\n",
    "\n",
    "    title: {\n",
    "        text: 'U.S Solar Employment Growth',\n",
    "        align: 'left'\n",
    "    },\n",
    "\n",
    "    subtitle: {\n",
    "        text: 'By Job Category. Source: <a href=\"https://irecusa.org/programs/solar-jobs-census/\" target=\"_blank\">IREC</a>.',\n",
    "        align: 'left'\n",
    "    },\n",
    "\n",
    "    yAxis: {\n",
    "        title: {\n",
    "            text: 'Number of Employees'\n",
    "        }\n",
    "    },\n",
    "\n",
    "    xAxis: {\n",
    "        accessibility: {\n",
    "            rangeDescription: 'Range: 2010 to 2022'\n",
    "        }\n",
    "    },\n",
    "\n",
    "    legend: {\n",
    "        layout: 'vertical',\n",
    "        align: 'right',\n",
    "        verticalAlign: 'middle'\n",
    "    },\n",
    "\n",
    "    plotOptions: {\n",
    "        series: {\n",
    "            label: {\n",
    "                connectorAllowed: false\n",
    "            },\n",
    "            pointStart: 2010\n",
    "        }\n",
    "    },\n",
    "\n",
    "    series: [{\n",
    "        name: 'Installation & Developers',\n",
    "        data: [\n",
    "            43934, 48656, 65165, 81827, 112143, 142383,\n",
    "            171533, 165174, 155157, 161454, 154610, 168960, 171558\n",
    "        ]\n",
    "    }, {\n",
    "        name: 'Manufacturing',\n",
    "        data: [\n",
    "            24916, 37941, 29742, 29851, 32490, 30282,\n",
    "            38121, 36885, 33726, 34243, 31050, 33099, 33473\n",
    "        ]\n",
    "    }, {\n",
    "        name: 'Sales & Distribution',\n",
    "        data: [\n",
    "            11744, 30000, 16005, 19771, 20185, 24377,\n",
    "            32147, 30912, 29243, 29213, 25663, 28978, 30618\n",
    "        ]\n",
    "    }, {\n",
    "        name: 'Operations & Maintenance',\n",
    "        data: [\n",
    "            null, null, null, null, null, null, null,\n",
    "            null, 11164, 11218, 10077, 12530, 16585\n",
    "        ]\n",
    "    }, {\n",
    "        name: 'Other',\n",
    "        data: [\n",
    "            21908, 5548, 8105, 11248, 8989, 11816, 18274,\n",
    "            17300, 13053, 11906, 10073, 11471, 11648\n",
    "        ]\n",
    "    }],\n",
    "\n",
    "    responsive: {\n",
    "        rules: [{\n",
    "            condition: {\n",
    "                maxWidth: 500\n",
    "            },\n",
    "            chartOptions: {\n",
    "                legend: {\n",
    "                    layout: 'horizontal',\n",
    "                    align: 'center',\n",
    "                    verticalAlign: 'bottom'\n",
    "                }\n",
    "            }\n",
    "        }]\n",
    "    }\n",
    "\n",
    "}\"\"\""
   ]
  },
  {
   "cell_type": "markdown",
   "id": "fd4adec6-b503-4b44-815f-4685b67999c0",
   "metadata": {},
   "source": [
    "## Assemble Chart and Options"
   ]
  },
  {
   "cell_type": "code",
   "execution_count": null,
   "id": "979bd673-c163-40da-80bf-27ca7c3bfdce",
   "metadata": {},
   "outputs": [],
   "source": [
    "options = HighchartsOptions.from_js_literal(options_as_str)\n",
    "chart = Chart.from_options(options)"
   ]
  },
  {
   "cell_type": "markdown",
   "id": "2294327c-46ec-425d-8f4e-0e618607c037",
   "metadata": {},
   "source": [
    "## Render Visualization"
   ]
  },
  {
   "cell_type": "code",
   "execution_count": null,
   "id": "8fb6490d-cb69-4ed3-995b-8df7389caee3",
   "metadata": {
    "tags": []
   },
   "outputs": [],
   "source": [
    "chart.display()"
   ]
  },
  {
   "cell_type": "code",
   "execution_count": null,
   "id": "69ef4b1d-59e3-4482-9ad7-efe94b81aa38",
   "metadata": {},
   "outputs": [],
   "source": []
  }
 ],
 "metadata": {
  "kernelspec": {
   "display_name": "Python 3 (ipykernel)",
   "language": "python",
   "name": "python3"
  },
  "language_info": {
   "codemirror_mode": {
    "name": "ipython",
    "version": 3
   },
   "file_extension": ".py",
   "mimetype": "text/x-python",
   "name": "python",
   "nbconvert_exporter": "python",
   "pygments_lexer": "ipython3",
   "version": "3.11.9"
  }
 },
 "nbformat": 4,
 "nbformat_minor": 5
}
