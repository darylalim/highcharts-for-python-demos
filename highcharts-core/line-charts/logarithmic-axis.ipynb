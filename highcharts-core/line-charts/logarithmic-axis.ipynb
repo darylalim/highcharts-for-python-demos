{
 "cells": [
  {
   "cell_type": "markdown",
   "id": "3d033821-eebd-4e56-8d75-1640001f6451",
   "metadata": {},
   "source": [
    "# Logarithmic axis\n",
    "This chart shows the use of a logarithmic y-axis. Logarithmic axes can\n",
    "be useful when dealing with data with spikes or large value gaps,\n",
    "as they allow variance in the smaller values to remain visible."
   ]
  },
  {
   "cell_type": "markdown",
   "id": "19324d42-e2dd-41a3-a12f-ca8fbceda5ec",
   "metadata": {},
   "source": [
    "## Import Dependencies"
   ]
  },
  {
   "cell_type": "code",
   "execution_count": null,
   "id": "9962170c-4f90-41f7-873e-0599ab54c046",
   "metadata": {
    "tags": []
   },
   "outputs": [],
   "source": [
    "from highcharts_core.chart import Chart\n",
    "from highcharts_core.options import HighchartsOptions"
   ]
  },
  {
   "cell_type": "markdown",
   "id": "089b8f43-ea01-4753-a52f-bfd1e23d948d",
   "metadata": {},
   "source": [
    "## Configure Options"
   ]
  },
  {
   "cell_type": "code",
   "execution_count": null,
   "id": "e8f030f9-6f9c-445b-b0f5-9f6b2118c865",
   "metadata": {
    "tags": []
   },
   "outputs": [],
   "source": [
    "options_as_dict = {\n",
    "    \n",
    "    'chart': {\n",
    "        'type': 'line'\n",
    "    },\n",
    "    \n",
    "    'title': {\n",
    "        'text': 'Growth of Internet Users Worldwide (logarithmic scale)'\n",
    "    },\n",
    "\n",
    "    'accessibility': {\n",
    "        'point': {\n",
    "            'valueDescriptionFormat':\n",
    "                '{xDescription}{separator}{value} million(s)'\n",
    "        }\n",
    "    },\n",
    "\n",
    "    'xAxis': {\n",
    "        'title': {\n",
    "            'text': 'Year'\n",
    "        },\n",
    "        'categories': ['1995', '2000', '2005', '2010', '2015', '2020', '2023']\n",
    "    },\n",
    "\n",
    "    'yAxis': {\n",
    "        'type': 'logarithmic',\n",
    "        'title': {\n",
    "            'text': 'Number of Internet Users (in millions)'\n",
    "        }\n",
    "    },\n",
    "\n",
    "    'tooltip': {\n",
    "        'headerFormat': '<b>{series.name}</b><br/>',\n",
    "        'pointFormat': '{point.y} million(s)'\n",
    "    },\n",
    "\n",
    "    'series': [{\n",
    "        'name': 'Internet Users',\n",
    "        'data': [\n",
    "            {'y': 16, 'color': '#0000ff'},\n",
    "            {'y': 361, 'color': '#8d0073'},\n",
    "            {'y': 1018, 'color': '#ba0046'},\n",
    "            {'y': 2025, 'color': '#d60028'},\n",
    "            {'y': 3192, 'color': '#eb0014'},\n",
    "            {'y': 4673, 'color': '#fb0004'},\n",
    "            {'y': 5200, 'color': '#ff0000'}\n",
    "        ],\n",
    "        'color': {\n",
    "            'linearGradient': {\n",
    "                'x1': 0,\n",
    "                'x2': 0,\n",
    "                'y1': 1,\n",
    "                'y2': 0\n",
    "            },\n",
    "            'stops': [\n",
    "                [0, '#0000ff'],\n",
    "                [1, '#ff0000']\n",
    "            ]\n",
    "        }\n",
    "    }]   \n",
    "}"
   ]
  },
  {
   "cell_type": "markdown",
   "id": "a7fbe64c-db87-4a51-ab9e-6a8f0dcd0a4b",
   "metadata": {},
   "source": [
    "## Assemble Chart and Options"
   ]
  },
  {
   "cell_type": "code",
   "execution_count": null,
   "id": "fcd22c3d-db05-47b1-92c8-25a3ca620955",
   "metadata": {},
   "outputs": [],
   "source": [
    "options = HighchartsOptions.from_dict(options_as_dict)\n",
    "chart = Chart.from_options(options)"
   ]
  },
  {
   "cell_type": "markdown",
   "id": "b06bf4c1-988c-49de-994e-96d6948a440e",
   "metadata": {},
   "source": [
    "## Render Visualization"
   ]
  },
  {
   "cell_type": "code",
   "execution_count": null,
   "id": "57aa98fa-be9a-462c-8b07-eb2e97de4f13",
   "metadata": {
    "tags": []
   },
   "outputs": [],
   "source": [
    "chart.display()"
   ]
  },
  {
   "cell_type": "code",
   "execution_count": null,
   "id": "eeee1852-fa5e-40d6-86e3-32fbb3bb85e4",
   "metadata": {},
   "outputs": [],
   "source": []
  }
 ],
 "metadata": {
  "kernelspec": {
   "display_name": "Python 3 (ipykernel)",
   "language": "python",
   "name": "python3"
  },
  "language_info": {
   "codemirror_mode": {
    "name": "ipython",
    "version": 3
   },
   "file_extension": ".py",
   "mimetype": "text/x-python",
   "name": "python",
   "nbconvert_exporter": "python",
   "pygments_lexer": "ipython3",
   "version": "3.11.9"
  }
 },
 "nbformat": 4,
 "nbformat_minor": 5
}
