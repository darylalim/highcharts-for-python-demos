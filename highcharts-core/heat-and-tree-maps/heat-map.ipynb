{
 "cells": [
  {
   "cell_type": "markdown",
   "id": "0c26872a-fc19-4f08-9fd9-ce0b0d961f27",
   "metadata": {},
   "source": [
    "# Heat map\n",
    "Heatmap showing employee data per weekday. \n",
    "Heatmaps are commonly used to visualize hot spots within data sets, and to show patterns or correlations. \n",
    "Due to their compact nature, they are often used with large sets of data."
   ]
  },
  {
   "cell_type": "markdown",
   "id": "6b461423-bdfe-46fd-ac5e-89a8191948e5",
   "metadata": {},
   "source": [
    "## Import Dependencies"
   ]
  },
  {
   "cell_type": "code",
   "execution_count": null,
   "id": "6ebbd6b7-cd27-4304-9d60-5e5cb2950063",
   "metadata": {},
   "outputs": [],
   "source": [
    "from highcharts_core.chart import Chart\n",
    "from highcharts_core.options import HighchartsOptions"
   ]
  },
  {
   "cell_type": "markdown",
   "id": "a07d8167-8441-4d14-97e6-f40983f37278",
   "metadata": {},
   "source": [
    "## Configure Options"
   ]
  },
  {
   "cell_type": "code",
   "execution_count": null,
   "id": "2d4b0bda-3c20-4af7-bf76-caff71606fed",
   "metadata": {},
   "outputs": [],
   "source": [
    "options_as_str = \"\"\"{\n",
    "\n",
    "    chart: {\n",
    "        type: 'heatmap',\n",
    "        marginTop: 40,\n",
    "        marginBottom: 80,\n",
    "        plotBorderWidth: 1\n",
    "    },\n",
    "\n",
    "    title: {\n",
    "        text: 'Sales per employee per weekday',\n",
    "        style: {\n",
    "            fontSize: '1em'\n",
    "        }\n",
    "    },\n",
    "\n",
    "    xAxis: {\n",
    "        categories: [\n",
    "            'Alexander', 'Marie', 'Maximilian', 'Sophia', 'Lukas',\n",
    "            'Maria', 'Leon', 'Anna', 'Tim', 'Laura'\n",
    "        ]\n",
    "    },\n",
    "\n",
    "    yAxis: {\n",
    "        categories: ['Monday', 'Tuesday', 'Wednesday', 'Thursday', 'Friday'],\n",
    "        title: null,\n",
    "        reversed: true\n",
    "    },\n",
    "\n",
    "    accessibility: {\n",
    "        point: {\n",
    "            descriptionFormat: '{(add index 1)}. {series.xAxis.categories.(x)} sales {series.yAxis.categories.(y)}, {value}.'\n",
    "        }\n",
    "    },\n",
    "\n",
    "    colorAxis: {\n",
    "        min: 0,\n",
    "        minColor: '#FFFFFF',\n",
    "        maxColor: '#7cb5ec'\n",
    "    },\n",
    "\n",
    "    legend: {\n",
    "        align: 'right',\n",
    "        layout: 'vertical',\n",
    "        margin: 0,\n",
    "        verticalAlign: 'top',\n",
    "        y: 25,\n",
    "        symbolHeight: 280\n",
    "    },\n",
    "\n",
    "    tooltip: {\n",
    "        format: '<b>{series.xAxis.categories.(point.x)}</b> sold<br><b>{point.value}</b> items on <br><b>{series.yAxis.categories.(point.y)}</b>'\n",
    "    },\n",
    "\n",
    "    series: [{\n",
    "        name: 'Sales per employee',\n",
    "        borderWidth: 1,\n",
    "        data: [\n",
    "            [0, 0, 10], [0, 1, 19], [0, 2, 8], [0, 3, 24], [0, 4, 67],\n",
    "            [1, 0, 92], [1, 1, 58], [1, 2, 78], [1, 3, 117], [1, 4, 48],\n",
    "            [2, 0, 35], [2, 1, 15], [2, 2, 123], [2, 3, 64], [2, 4, 52],\n",
    "            [3, 0, 72], [3, 1, 132], [3, 2, 114], [3, 3, 19], [3, 4, 16],\n",
    "            [4, 0, 38], [4, 1, 5], [4, 2, 8], [4, 3, 117], [4, 4, 115],\n",
    "            [5, 0, 88], [5, 1, 32], [5, 2, 12], [5, 3, 6], [5, 4, 120],\n",
    "            [6, 0, 13], [6, 1, 44], [6, 2, 88], [6, 3, 98], [6, 4, 96],\n",
    "            [7, 0, 31], [7, 1, 1], [7, 2, 82], [7, 3, 32], [7, 4, 30],\n",
    "            [8, 0, 85], [8, 1, 97], [8, 2, 123], [8, 3, 64], [8, 4, 84],\n",
    "            [9, 0, 47], [9, 1, 114], [9, 2, 31], [9, 3, 48], [9, 4, 91]\n",
    "        ],\n",
    "        dataLabels: {\n",
    "            enabled: true,\n",
    "            color: '#000000'\n",
    "        }\n",
    "    }],\n",
    "\n",
    "    responsive: {\n",
    "        rules: [{\n",
    "            condition: {\n",
    "                maxWidth: 500\n",
    "            },\n",
    "            chartOptions: {\n",
    "                yAxis: {\n",
    "                    labels: {\n",
    "                        // format: '{substr value 0 1}'\n",
    "                    }\n",
    "                }\n",
    "            }\n",
    "        }]\n",
    "    }\n",
    "    \n",
    "}\"\"\""
   ]
  },
  {
   "cell_type": "markdown",
   "id": "7d6e716b-e5ae-41c3-8e31-892107976b8b",
   "metadata": {},
   "source": [
    "## Assemble Chart and Options"
   ]
  },
  {
   "cell_type": "code",
   "execution_count": null,
   "id": "cfbfabae-8868-4106-b720-5f00ae87a94a",
   "metadata": {},
   "outputs": [],
   "source": [
    "options = HighchartsOptions.from_js_literal(options_as_str)\n",
    "chart = Chart.from_options(options)"
   ]
  },
  {
   "cell_type": "markdown",
   "id": "4d16f0f2-c54c-45b5-a60a-b4c33e247e02",
   "metadata": {},
   "source": [
    "## Render Visualization"
   ]
  },
  {
   "cell_type": "code",
   "execution_count": null,
   "id": "71cd0e89-da09-4fa0-bdef-8ed5ce5db44a",
   "metadata": {
    "tags": []
   },
   "outputs": [],
   "source": [
    "chart.display()"
   ]
  }
 ],
 "metadata": {
  "kernelspec": {
   "display_name": "Python 3 (ipykernel)",
   "language": "python",
   "name": "python3"
  },
  "language_info": {
   "codemirror_mode": {
    "name": "ipython",
    "version": 3
   },
   "file_extension": ".py",
   "mimetype": "text/x-python",
   "name": "python",
   "nbconvert_exporter": "python",
   "pygments_lexer": "ipython3",
   "version": "3.11.9"
  }
 },
 "nbformat": 4,
 "nbformat_minor": 5
}
