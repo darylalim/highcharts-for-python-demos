{
 "cells": [
  {
   "cell_type": "markdown",
   "id": "0c26872a-fc19-4f08-9fd9-ce0b0d961f27",
   "metadata": {},
   "source": [
    "# Tree map with color axis\n",
    "Tree maps are great tools for comparing values that are part of a whole, or for showing hierarchical data. \n",
    "This example is a simple tree map with no hierarchy, showing the value differences with rectangle sizes and using a color axis."
   ]
  },
  {
   "cell_type": "markdown",
   "id": "6b461423-bdfe-46fd-ac5e-89a8191948e5",
   "metadata": {},
   "source": [
    "## Import Dependencies"
   ]
  },
  {
   "cell_type": "code",
   "execution_count": null,
   "id": "6ebbd6b7-cd27-4304-9d60-5e5cb2950063",
   "metadata": {},
   "outputs": [],
   "source": [
    "from highcharts_core.chart import Chart\n",
    "from highcharts_core.options import HighchartsOptions"
   ]
  },
  {
   "cell_type": "markdown",
   "id": "a07d8167-8441-4d14-97e6-f40983f37278",
   "metadata": {},
   "source": [
    "## Configure Options"
   ]
  },
  {
   "cell_type": "code",
   "execution_count": null,
   "id": "2d4b0bda-3c20-4af7-bf76-caff71606fed",
   "metadata": {},
   "outputs": [],
   "source": [
    "options_as_str = \"\"\"{\n",
    "    colorAxis: {\n",
    "        minColor: '#FFFFFF',\n",
    "        maxColor: '#7cb5ec'\n",
    "    },\n",
    "    series: [{\n",
    "        type: 'treemap',\n",
    "        layoutAlgorithm: 'squarified',\n",
    "        clip: false,\n",
    "        data: [{\n",
    "            name: 'A',\n",
    "            value: 6,\n",
    "            colorValue: 1\n",
    "        }, {\n",
    "            name: 'B',\n",
    "            value: 6,\n",
    "            colorValue: 2\n",
    "        }, {\n",
    "            name: 'C',\n",
    "            value: 4,\n",
    "            colorValue: 3\n",
    "        }, {\n",
    "            name: 'D',\n",
    "            value: 3,\n",
    "            colorValue: 4\n",
    "        }, {\n",
    "            name: 'E',\n",
    "            value: 2,\n",
    "            colorValue: 5\n",
    "        }, {\n",
    "            name: 'F',\n",
    "            value: 2,\n",
    "            colorValue: 6\n",
    "        }, {\n",
    "            name: 'G',\n",
    "            value: 1,\n",
    "            colorValue: 7\n",
    "        }]\n",
    "    }],\n",
    "    title: {\n",
    "        text: 'Highcharts Treemap'\n",
    "    }\n",
    "}\"\"\""
   ]
  },
  {
   "cell_type": "markdown",
   "id": "7d6e716b-e5ae-41c3-8e31-892107976b8b",
   "metadata": {},
   "source": [
    "## Assemble Chart and Options"
   ]
  },
  {
   "cell_type": "code",
   "execution_count": null,
   "id": "cfbfabae-8868-4106-b720-5f00ae87a94a",
   "metadata": {},
   "outputs": [],
   "source": [
    "options = HighchartsOptions.from_js_literal(options_as_str)\n",
    "chart = Chart.from_options(options)"
   ]
  },
  {
   "cell_type": "markdown",
   "id": "4d16f0f2-c54c-45b5-a60a-b4c33e247e02",
   "metadata": {},
   "source": [
    "## Render Visualization"
   ]
  },
  {
   "cell_type": "code",
   "execution_count": null,
   "id": "71cd0e89-da09-4fa0-bdef-8ed5ce5db44a",
   "metadata": {
    "tags": []
   },
   "outputs": [],
   "source": [
    "chart.display()"
   ]
  }
 ],
 "metadata": {
  "kernelspec": {
   "display_name": "Python 3 (ipykernel)",
   "language": "python",
   "name": "python3"
  },
  "language_info": {
   "codemirror_mode": {
    "name": "ipython",
    "version": 3
   },
   "file_extension": ".py",
   "mimetype": "text/x-python",
   "name": "python",
   "nbconvert_exporter": "python",
   "pygments_lexer": "ipython3",
   "version": "3.11.9"
  }
 },
 "nbformat": 4,
 "nbformat_minor": 5
}
