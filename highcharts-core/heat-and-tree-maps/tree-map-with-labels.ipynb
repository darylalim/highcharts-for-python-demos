{
 "cells": [
  {
   "cell_type": "markdown",
   "id": "0c26872a-fc19-4f08-9fd9-ce0b0d961f27",
   "metadata": {},
   "source": [
    "# Tree map with levels\n",
    "This chart shows a tree map with a hierarchy, where the groups are labelled with a different text style from the child nodes, and the nodes are grouped together by color."
   ]
  },
  {
   "cell_type": "markdown",
   "id": "6b461423-bdfe-46fd-ac5e-89a8191948e5",
   "metadata": {},
   "source": [
    "## Import Dependencies"
   ]
  },
  {
   "cell_type": "code",
   "execution_count": null,
   "id": "6ebbd6b7-cd27-4304-9d60-5e5cb2950063",
   "metadata": {},
   "outputs": [],
   "source": [
    "from highcharts_core.chart import Chart\n",
    "from highcharts_core.options import HighchartsOptions"
   ]
  },
  {
   "cell_type": "markdown",
   "id": "a07d8167-8441-4d14-97e6-f40983f37278",
   "metadata": {},
   "source": [
    "## Configure Options"
   ]
  },
  {
   "cell_type": "code",
   "execution_count": null,
   "id": "2d4b0bda-3c20-4af7-bf76-caff71606fed",
   "metadata": {},
   "outputs": [],
   "source": [
    "options_as_str = \"\"\"{\n",
    "    series: [{\n",
    "        type: 'treemap',\n",
    "        name: 'Norge',\n",
    "        allowTraversingTree: true,\n",
    "        alternateStartingDirection: true,\n",
    "        dataLabels: {\n",
    "            format: '{point.name}',\n",
    "            style: {\n",
    "                textOutline: 'none'\n",
    "            }\n",
    "        },\n",
    "        borderColor: '#ffffff',\n",
    "        borderRadius: 3,\n",
    "        nodeSizeBy: 'leaf',\n",
    "        levels: [{\n",
    "            level: 1,\n",
    "            layoutAlgorithm: 'sliceAndDice',\n",
    "            groupPadding: 3,\n",
    "            dataLabels: {\n",
    "                headers: true,\n",
    "                enabled: true,\n",
    "                style: {\n",
    "                    fontSize: '0.6em',\n",
    "                    fontWeight: 'normal',\n",
    "                    textTransform: 'uppercase'\n",
    "                }\n",
    "            },\n",
    "            borderRadius: 3,\n",
    "            borderWidth: 1,\n",
    "            colorByPoint: true\n",
    "\n",
    "        }, {\n",
    "            level: 2,\n",
    "            dataLabels: {\n",
    "                enabled: true,\n",
    "                inside: false\n",
    "            }\n",
    "        }],\n",
    "        data: [{\n",
    "            id: 'A',\n",
    "            name: 'Nord-Norge',\n",
    "            color: '#50FFB1'\n",
    "        }, {\n",
    "            id: 'B',\n",
    "            name: 'Trøndelag',\n",
    "            color: '#F5FBEF'\n",
    "        }, {\n",
    "            id: 'C',\n",
    "            name: 'Vestlandet',\n",
    "            color: '#A09FA8'\n",
    "        }, {\n",
    "            id: 'D',\n",
    "            name: 'Østlandet',\n",
    "            color: '#E7ECEF'\n",
    "        }, {\n",
    "            id: 'E',\n",
    "            name: 'Sørlandet',\n",
    "            color: '#A9B4C2'\n",
    "        }, {\n",
    "            name: 'Troms og Finnmark',\n",
    "            parent: 'A',\n",
    "            value: 70923\n",
    "        }, {\n",
    "            name: 'Nordland',\n",
    "            parent: 'A',\n",
    "            value: 35759\n",
    "        }, {\n",
    "            name: 'Trøndelag',\n",
    "            parent: 'B',\n",
    "            value: 39494\n",
    "        }, {\n",
    "            name: 'Møre og Romsdal',\n",
    "            parent: 'C',\n",
    "            value: 13840\n",
    "        }, {\n",
    "            name: 'Vestland',\n",
    "            parent: 'C',\n",
    "            value: 31969\n",
    "        }, {\n",
    "            name: 'Rogaland',\n",
    "            parent: 'C',\n",
    "            value: 8576\n",
    "        }, {\n",
    "            name: 'Viken',\n",
    "            parent: 'D',\n",
    "            value: 22768\n",
    "        }, {\n",
    "            name: 'Innlandet',\n",
    "            parent: 'D',\n",
    "            value: 49391\n",
    "        },\n",
    "        {\n",
    "            name: 'Oslo',\n",
    "            parent: 'D',\n",
    "            value: 454\n",
    "        },\n",
    "        {\n",
    "            name: 'Vestfold og Telemark',\n",
    "            parent: 'D',\n",
    "            value: 15925\n",
    "        },\n",
    "        {\n",
    "            name: 'Agder',\n",
    "            parent: 'E',\n",
    "            value: 14981\n",
    "        }]\n",
    "    }],\n",
    "    title: {\n",
    "        text: 'Norwegian regions and counties by area',\n",
    "        align: 'left'\n",
    "    },\n",
    "    subtitle: {\n",
    "        text:\n",
    "            'Source: <a href=\"https://snl.no/Norge\" target=\"_blank\">SNL</a>',\n",
    "        align: 'left'\n",
    "    },\n",
    "    tooltip: {\n",
    "        useHTML: true,\n",
    "        pointFormat: 'The area of <b>{point.name}</b> is <b>{point.value} km<sup>2</sup></b>'\n",
    "    }\n",
    "}\"\"\""
   ]
  },
  {
   "cell_type": "markdown",
   "id": "7d6e716b-e5ae-41c3-8e31-892107976b8b",
   "metadata": {},
   "source": [
    "## Assemble Chart and Options"
   ]
  },
  {
   "cell_type": "code",
   "execution_count": null,
   "id": "cfbfabae-8868-4106-b720-5f00ae87a94a",
   "metadata": {},
   "outputs": [],
   "source": [
    "options = HighchartsOptions.from_js_literal(options_as_str)\n",
    "chart = Chart.from_options(options)"
   ]
  },
  {
   "cell_type": "markdown",
   "id": "4d16f0f2-c54c-45b5-a60a-b4c33e247e02",
   "metadata": {},
   "source": [
    "## Render Visualization"
   ]
  },
  {
   "cell_type": "code",
   "execution_count": null,
   "id": "71cd0e89-da09-4fa0-bdef-8ed5ce5db44a",
   "metadata": {
    "tags": []
   },
   "outputs": [],
   "source": [
    "chart.display()"
   ]
  }
 ],
 "metadata": {
  "kernelspec": {
   "display_name": "Python 3 (ipykernel)",
   "language": "python",
   "name": "python3"
  },
  "language_info": {
   "codemirror_mode": {
    "name": "ipython",
    "version": 3
   },
   "file_extension": ".py",
   "mimetype": "text/x-python",
   "name": "python",
   "nbconvert_exporter": "python",
   "pygments_lexer": "ipython3",
   "version": "3.11.9"
  }
 },
 "nbformat": 4,
 "nbformat_minor": 5
}
