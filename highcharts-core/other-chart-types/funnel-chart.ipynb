{
 "cells": [
  {
   "cell_type": "markdown",
   "id": "0c26872a-fc19-4f08-9fd9-ce0b0d961f27",
   "metadata": {},
   "source": [
    "# Funnel chart\n",
    "Chart showing a sales funnel. A funnel chart is often used to visualize data from stages of a process. Readers can quickly identify bottlenecks in the process by comparing the area size variation of each stage."
   ]
  },
  {
   "cell_type": "markdown",
   "id": "6b461423-bdfe-46fd-ac5e-89a8191948e5",
   "metadata": {},
   "source": [
    "## Import Dependencies"
   ]
  },
  {
   "cell_type": "code",
   "execution_count": null,
   "id": "6ebbd6b7-cd27-4304-9d60-5e5cb2950063",
   "metadata": {},
   "outputs": [],
   "source": [
    "from highcharts_core.chart import Chart\n",
    "from highcharts_core.options import HighchartsOptions"
   ]
  },
  {
   "cell_type": "markdown",
   "id": "a07d8167-8441-4d14-97e6-f40983f37278",
   "metadata": {},
   "source": [
    "## Configure Options"
   ]
  },
  {
   "cell_type": "code",
   "execution_count": null,
   "id": "2d4b0bda-3c20-4af7-bf76-caff71606fed",
   "metadata": {},
   "outputs": [],
   "source": [
    "options_as_str = \"\"\"{\n",
    "    chart: {\n",
    "        type: 'funnel'\n",
    "    },\n",
    "    title: {\n",
    "        text: 'Sales funnel'\n",
    "    },\n",
    "    plotOptions: {\n",
    "        series: {\n",
    "            dataLabels: {\n",
    "                enabled: true,\n",
    "                format: '<b>{point.name}</b> ({point.y:,.0f})',\n",
    "                softConnector: true\n",
    "            },\n",
    "            center: ['40%', '50%'],\n",
    "            neckWidth: '30%',\n",
    "            neckHeight: '25%',\n",
    "            width: '80%'\n",
    "        }\n",
    "    },\n",
    "    legend: {\n",
    "        enabled: false\n",
    "    },\n",
    "    series: [{\n",
    "        name: 'Unique users',\n",
    "        data: [\n",
    "            ['Website visits', 15654],\n",
    "            ['Downloads', 4064],\n",
    "            ['Requested price list', 1987],\n",
    "            ['Invoice sent', 976],\n",
    "            ['Finalized', 846]\n",
    "        ]\n",
    "    }],\n",
    "\n",
    "    responsive: {\n",
    "        rules: [{\n",
    "            condition: {\n",
    "                maxWidth: 500\n",
    "            },\n",
    "            chartOptions: {\n",
    "                plotOptions: {\n",
    "                    series: {\n",
    "                        dataLabels: {\n",
    "                            inside: true\n",
    "                        },\n",
    "                        center: ['50%', '50%'],\n",
    "                        width: '100%'\n",
    "                    }\n",
    "                }\n",
    "            }\n",
    "        }]\n",
    "    }\n",
    "}\"\"\""
   ]
  },
  {
   "cell_type": "markdown",
   "id": "7d6e716b-e5ae-41c3-8e31-892107976b8b",
   "metadata": {},
   "source": [
    "## Assemble Chart and Options"
   ]
  },
  {
   "cell_type": "code",
   "execution_count": null,
   "id": "cfbfabae-8868-4106-b720-5f00ae87a94a",
   "metadata": {},
   "outputs": [],
   "source": [
    "options = HighchartsOptions.from_js_literal(options_as_str)\n",
    "chart = Chart.from_options(options)"
   ]
  },
  {
   "cell_type": "markdown",
   "id": "4d16f0f2-c54c-45b5-a60a-b4c33e247e02",
   "metadata": {},
   "source": [
    "## Render Visualization"
   ]
  },
  {
   "cell_type": "code",
   "execution_count": null,
   "id": "71cd0e89-da09-4fa0-bdef-8ed5ce5db44a",
   "metadata": {
    "tags": []
   },
   "outputs": [],
   "source": [
    "chart.display()"
   ]
  }
 ],
 "metadata": {
  "kernelspec": {
   "display_name": "Python 3 (ipykernel)",
   "language": "python",
   "name": "python3"
  },
  "language_info": {
   "codemirror_mode": {
    "name": "ipython",
    "version": 3
   },
   "file_extension": ".py",
   "mimetype": "text/x-python",
   "name": "python",
   "nbconvert_exporter": "python",
   "pygments_lexer": "ipython3",
   "version": "3.11.9"
  }
 },
 "nbformat": 4,
 "nbformat_minor": 5
}
