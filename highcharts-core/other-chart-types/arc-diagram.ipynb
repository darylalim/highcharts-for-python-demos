{
 "cells": [
  {
   "cell_type": "markdown",
   "id": "0c26872a-fc19-4f08-9fd9-ce0b0d961f27",
   "metadata": {},
   "source": [
    "# Arc Diagram\n",
    "Arc diagram chart with circles of different sizes along the X axis, and connections drawn as arcs between them. From the chart we can see that Paris is the city with the most connections to other cities."
   ]
  },
  {
   "cell_type": "markdown",
   "id": "6b461423-bdfe-46fd-ac5e-89a8191948e5",
   "metadata": {},
   "source": [
    "## Import Dependencies"
   ]
  },
  {
   "cell_type": "code",
   "execution_count": null,
   "id": "6ebbd6b7-cd27-4304-9d60-5e5cb2950063",
   "metadata": {},
   "outputs": [],
   "source": [
    "from highcharts_core.chart import Chart\n",
    "from highcharts_core.options import HighchartsOptions"
   ]
  },
  {
   "cell_type": "markdown",
   "id": "a07d8167-8441-4d14-97e6-f40983f37278",
   "metadata": {},
   "source": [
    "## Configure Options"
   ]
  },
  {
   "cell_type": "code",
   "execution_count": null,
   "id": "2d4b0bda-3c20-4af7-bf76-caff71606fed",
   "metadata": {},
   "outputs": [],
   "source": [
    "options_as_str = \"\"\"{\n",
    "\n",
    "    title: {\n",
    "        text: 'Main train connections in Europe'\n",
    "    },\n",
    "\n",
    "    accessibility: {\n",
    "        description: 'Arc diagram chart with circles of different sizes along the X axis, and connections drawn as arcs between them. From the chart we can see that Paris is the city with the most connections to other cities.',\n",
    "        point: {\n",
    "            valueDescriptionFormat: 'Connection from {point.from} to {point.to}.'\n",
    "        }\n",
    "    },\n",
    "\n",
    "    series: [{\n",
    "        keys: ['from', 'to', 'weight'],\n",
    "        type: 'arcdiagram',\n",
    "        name: 'Train connections',\n",
    "        linkWeight: 1.5,\n",
    "        centeredLinks: true,\n",
    "        dataLabels: {\n",
    "            rotation: 90,\n",
    "            y: 30,\n",
    "            verticalAlign: 'top',\n",
    "            color: 'black',\n",
    "            padding: 0\n",
    "        },\n",
    "        offset: '65%',\n",
    "        data: [\n",
    "            ['Hamburg', 'Stuttgart', 1],\n",
    "            ['Hamburg', 'Frankfurt', 1],\n",
    "            ['Hamburg', 'München', 1],\n",
    "            ['Hannover', 'Wien', 1],\n",
    "            ['Hannover', 'München', 1],\n",
    "            ['Berlin', 'Wien', 1],\n",
    "            ['Berlin', 'München', 1],\n",
    "            ['Berlin', 'Stuttgart', 1],\n",
    "            ['Berlin', 'Frankfurt', 1],\n",
    "            ['Berlin', 'Köln', 1],\n",
    "            ['Berlin', 'Düsseldorf', 1],\n",
    "            ['München', 'Düsseldorf', 1],\n",
    "            ['München', 'Wien', 1],\n",
    "            ['München', 'Frankfurt', 1],\n",
    "            ['München', 'Köln', 1],\n",
    "            ['München', 'Amsterdam', 1],\n",
    "            ['Stuttgart', 'Wien', 1],\n",
    "            ['Frankfurt', 'Wien', 1],\n",
    "            ['Frankfurt', 'Amsterdam', 1],\n",
    "            ['Frankfurt', 'Paris', 1],\n",
    "            ['Frankfurt', 'Budapest', 1],\n",
    "            ['Düsseldorf', 'Wien', 1],\n",
    "            ['Düsseldorf', 'Hamburg', 1],\n",
    "            ['Amsterdam', 'Paris', 1],\n",
    "            ['Paris', 'Brest', 1],\n",
    "            ['Paris', 'Nantes', 1],\n",
    "            ['Paris', 'Bayonne', 1],\n",
    "            ['Paris', 'Bordeaux', 1],\n",
    "            ['Paris', 'Toulouse', 1],\n",
    "            ['Paris', 'Montpellier', 1],\n",
    "            ['Paris', 'Marseille', 1],\n",
    "            ['Paris', 'Nice', 1],\n",
    "            ['Paris', 'Milano', 1],\n",
    "            ['Nantes', 'Nice', 1],\n",
    "            ['Bordeaux', 'Lyon', 1],\n",
    "            ['Nantes', 'Lyon', 1],\n",
    "            ['Milano', 'München', 1],\n",
    "            ['Milano', 'Roma', 1],\n",
    "            ['Milano', 'Bari', 1],\n",
    "            ['Milano', 'Napoli', 1],\n",
    "            ['Milano', 'Brindisi', 1],\n",
    "            ['Milano', 'Lamezia Terme', 1],\n",
    "            ['Torino', 'Roma', 1],\n",
    "            ['Venezia', 'Napoli', 1],\n",
    "            ['Roma', 'Bari', 1],\n",
    "            ['Roma', 'Catania', 1],\n",
    "            ['Roma', 'Brindisi', 1],\n",
    "            ['Catania', 'Milano', 1]\n",
    "        ]\n",
    "    }]\n",
    "\n",
    "}\"\"\""
   ]
  },
  {
   "cell_type": "markdown",
   "id": "7d6e716b-e5ae-41c3-8e31-892107976b8b",
   "metadata": {},
   "source": [
    "## Assemble Chart and Options"
   ]
  },
  {
   "cell_type": "code",
   "execution_count": null,
   "id": "cfbfabae-8868-4106-b720-5f00ae87a94a",
   "metadata": {},
   "outputs": [],
   "source": [
    "options = HighchartsOptions.from_js_literal(options_as_str)\n",
    "chart = Chart.from_options(options)"
   ]
  },
  {
   "cell_type": "markdown",
   "id": "4d16f0f2-c54c-45b5-a60a-b4c33e247e02",
   "metadata": {},
   "source": [
    "## Render Visualization"
   ]
  },
  {
   "cell_type": "code",
   "execution_count": null,
   "id": "71cd0e89-da09-4fa0-bdef-8ed5ce5db44a",
   "metadata": {
    "tags": []
   },
   "outputs": [],
   "source": [
    "chart.display()"
   ]
  }
 ],
 "metadata": {
  "kernelspec": {
   "display_name": "Python 3 (ipykernel)",
   "language": "python",
   "name": "python3"
  },
  "language_info": {
   "codemirror_mode": {
    "name": "ipython",
    "version": 3
   },
   "file_extension": ".py",
   "mimetype": "text/x-python",
   "name": "python",
   "nbconvert_exporter": "python",
   "pygments_lexer": "ipython3",
   "version": "3.11.9"
  }
 },
 "nbformat": 4,
 "nbformat_minor": 5
}
