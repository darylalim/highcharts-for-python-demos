{
 "cells": [
  {
   "cell_type": "markdown",
   "id": "0c26872a-fc19-4f08-9fd9-ce0b0d961f27",
   "metadata": {},
   "source": [
    "# Box plot\n",
    "Chart showing the use of box plots with outliers. The chart makes use of a plot line to show the theoretical mean value across the y-axis."
   ]
  },
  {
   "cell_type": "markdown",
   "id": "6b461423-bdfe-46fd-ac5e-89a8191948e5",
   "metadata": {},
   "source": [
    "## Import Dependencies"
   ]
  },
  {
   "cell_type": "code",
   "execution_count": null,
   "id": "6ebbd6b7-cd27-4304-9d60-5e5cb2950063",
   "metadata": {},
   "outputs": [],
   "source": [
    "from highcharts_core.chart import Chart\n",
    "from highcharts_core.options import HighchartsOptions"
   ]
  },
  {
   "cell_type": "markdown",
   "id": "a07d8167-8441-4d14-97e6-f40983f37278",
   "metadata": {},
   "source": [
    "## Configure Options"
   ]
  },
  {
   "cell_type": "code",
   "execution_count": null,
   "id": "2d4b0bda-3c20-4af7-bf76-caff71606fed",
   "metadata": {},
   "outputs": [],
   "source": [
    "options_as_str = \"\"\"{\n",
    "\n",
    "    chart: {\n",
    "        type: 'boxplot'\n",
    "    },\n",
    "\n",
    "    title: {\n",
    "        text: 'Highcharts Box Plot Example'\n",
    "    },\n",
    "\n",
    "    legend: {\n",
    "        enabled: false\n",
    "    },\n",
    "\n",
    "    xAxis: {\n",
    "        categories: ['1', '2', '3', '4', '5'],\n",
    "        title: {\n",
    "            text: 'Experiment No.'\n",
    "        }\n",
    "    },\n",
    "\n",
    "    yAxis: {\n",
    "        title: {\n",
    "            text: 'Observations'\n",
    "        },\n",
    "        plotLines: [{\n",
    "            value: 932,\n",
    "            color: 'red',\n",
    "            width: 1,\n",
    "            label: {\n",
    "                text: 'Theoretical mean: 932',\n",
    "                align: 'center',\n",
    "                style: {\n",
    "                    color: 'gray'\n",
    "                }\n",
    "            }\n",
    "        }]\n",
    "    },\n",
    "\n",
    "    series: [{\n",
    "        name: 'Observations',\n",
    "        data: [\n",
    "            [760, 801, 848, 895, 965],\n",
    "            [733, 853, 939, 980, 1080],\n",
    "            [714, 762, 817, 870, 918],\n",
    "            [724, 802, 806, 871, 950],\n",
    "            [834, 836, 864, 882, 910]\n",
    "        ],\n",
    "        tooltip: {\n",
    "            headerFormat: '<em>Experiment No {point.key}</em><br/>'\n",
    "        }\n",
    "    }, {\n",
    "        name: 'Outliers',\n",
    "        color: '#7cb5ec',\n",
    "        type: 'scatter',\n",
    "        data: [ // x, y positions where 0 is the first category\n",
    "            [0, 644],\n",
    "            [4, 718],\n",
    "            [4, 951],\n",
    "            [4, 969]\n",
    "        ],\n",
    "        marker: {\n",
    "            fillColor: 'white',\n",
    "            lineWidth: 1,\n",
    "            lineColor: '#7cb5ec'\n",
    "        },\n",
    "        tooltip: {\n",
    "            pointFormat: 'Observation: {point.y}'\n",
    "        }\n",
    "    }]\n",
    "\n",
    "}\"\"\""
   ]
  },
  {
   "cell_type": "markdown",
   "id": "7d6e716b-e5ae-41c3-8e31-892107976b8b",
   "metadata": {},
   "source": [
    "## Assemble Chart and Options"
   ]
  },
  {
   "cell_type": "code",
   "execution_count": null,
   "id": "cfbfabae-8868-4106-b720-5f00ae87a94a",
   "metadata": {},
   "outputs": [],
   "source": [
    "options = HighchartsOptions.from_js_literal(options_as_str)\n",
    "chart = Chart.from_options(options)"
   ]
  },
  {
   "cell_type": "markdown",
   "id": "4d16f0f2-c54c-45b5-a60a-b4c33e247e02",
   "metadata": {},
   "source": [
    "## Render Visualization"
   ]
  },
  {
   "cell_type": "code",
   "execution_count": null,
   "id": "71cd0e89-da09-4fa0-bdef-8ed5ce5db44a",
   "metadata": {
    "tags": []
   },
   "outputs": [],
   "source": [
    "chart.display()"
   ]
  },
  {
   "cell_type": "code",
   "execution_count": null,
   "id": "5e5a242d-24d9-480a-ad81-1f2b9396e508",
   "metadata": {},
   "outputs": [],
   "source": []
  }
 ],
 "metadata": {
  "kernelspec": {
   "display_name": "Python 3 (ipykernel)",
   "language": "python",
   "name": "python3"
  },
  "language_info": {
   "codemirror_mode": {
    "name": "ipython",
    "version": 3
   },
   "file_extension": ".py",
   "mimetype": "text/x-python",
   "name": "python",
   "nbconvert_exporter": "python",
   "pygments_lexer": "ipython3",
   "version": "3.11.9"
  }
 },
 "nbformat": 4,
 "nbformat_minor": 5
}
