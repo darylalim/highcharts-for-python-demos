{
 "cells": [
  {
   "cell_type": "markdown",
   "id": "0c26872a-fc19-4f08-9fd9-ce0b0d961f27",
   "metadata": {},
   "source": [
    "# Spiderweb\n",
    "A spiderweb chart or radar chart is a variant of the polar chart. Spiderweb charts are commonly used to compare multivariate data sets, like this demo using six variables of comparison."
   ]
  },
  {
   "cell_type": "markdown",
   "id": "6b461423-bdfe-46fd-ac5e-89a8191948e5",
   "metadata": {},
   "source": [
    "## Import Dependencies"
   ]
  },
  {
   "cell_type": "code",
   "execution_count": null,
   "id": "6ebbd6b7-cd27-4304-9d60-5e5cb2950063",
   "metadata": {},
   "outputs": [],
   "source": [
    "from highcharts_core.chart import Chart\n",
    "from highcharts_core.options import HighchartsOptions"
   ]
  },
  {
   "cell_type": "markdown",
   "id": "a07d8167-8441-4d14-97e6-f40983f37278",
   "metadata": {},
   "source": [
    "## Configure Options"
   ]
  },
  {
   "cell_type": "code",
   "execution_count": null,
   "id": "2d4b0bda-3c20-4af7-bf76-caff71606fed",
   "metadata": {},
   "outputs": [],
   "source": [
    "options_as_str = \"\"\"{\n",
    "\n",
    "    chart: {\n",
    "        polar: true,\n",
    "        type: 'line'\n",
    "    },\n",
    "\n",
    "    title: {\n",
    "        text: 'Budget vs spending',\n",
    "        x: -80\n",
    "    },\n",
    "\n",
    "    pane: {\n",
    "        size: '80%'\n",
    "    },\n",
    "\n",
    "    xAxis: {\n",
    "        categories: [\n",
    "            'Sales', 'Marketing', 'Development', 'Customer Support',\n",
    "            'Information Technology', 'Administration'\n",
    "        ],\n",
    "        tickmarkPlacement: 'on',\n",
    "        lineWidth: 0\n",
    "    },\n",
    "\n",
    "    yAxis: {\n",
    "        gridLineInterpolation: 'polygon',\n",
    "        lineWidth: 0,\n",
    "        min: 0\n",
    "    },\n",
    "\n",
    "    tooltip: {\n",
    "        shared: true,\n",
    "        pointFormat: '<span style=\"color:{series.color}\">{series.name}: <b>${point.y:,.0f}</b><br/>'\n",
    "    },\n",
    "\n",
    "    legend: {\n",
    "        align: 'right',\n",
    "        verticalAlign: 'middle',\n",
    "        layout: 'vertical'\n",
    "    },\n",
    "\n",
    "    series: [{\n",
    "        name: 'Allocated Budget',\n",
    "        data: [43000, 19000, 60000, 35000, 17000, 10000],\n",
    "        pointPlacement: 'on'\n",
    "    }, {\n",
    "        name: 'Actual Spending',\n",
    "        data: [50000, 39000, 42000, 31000, 26000, 14000],\n",
    "        pointPlacement: 'on'\n",
    "    }],\n",
    "\n",
    "    responsive: {\n",
    "        rules: [{\n",
    "            condition: {\n",
    "                maxWidth: 500\n",
    "            },\n",
    "            chartOptions: {\n",
    "                title: {\n",
    "                    x: 0\n",
    "                },\n",
    "                legend: {\n",
    "                    align: 'center',\n",
    "                    verticalAlign: 'bottom',\n",
    "                    layout: 'horizontal'\n",
    "                },\n",
    "                pane: {\n",
    "                    size: '70%'\n",
    "                }\n",
    "            }\n",
    "        }]\n",
    "    }\n",
    "\n",
    "}\"\"\""
   ]
  },
  {
   "cell_type": "markdown",
   "id": "7d6e716b-e5ae-41c3-8e31-892107976b8b",
   "metadata": {},
   "source": [
    "## Assemble Chart and Options"
   ]
  },
  {
   "cell_type": "code",
   "execution_count": null,
   "id": "cfbfabae-8868-4106-b720-5f00ae87a94a",
   "metadata": {},
   "outputs": [],
   "source": [
    "options = HighchartsOptions.from_js_literal(options_as_str)\n",
    "chart = Chart.from_options(options)"
   ]
  },
  {
   "cell_type": "markdown",
   "id": "4d16f0f2-c54c-45b5-a60a-b4c33e247e02",
   "metadata": {},
   "source": [
    "## Render Visualization"
   ]
  },
  {
   "cell_type": "code",
   "execution_count": null,
   "id": "71cd0e89-da09-4fa0-bdef-8ed5ce5db44a",
   "metadata": {
    "tags": []
   },
   "outputs": [],
   "source": [
    "chart.display()"
   ]
  }
 ],
 "metadata": {
  "kernelspec": {
   "display_name": "Python 3 (ipykernel)",
   "language": "python",
   "name": "python3"
  },
  "language_info": {
   "codemirror_mode": {
    "name": "ipython",
    "version": 3
   },
   "file_extension": ".py",
   "mimetype": "text/x-python",
   "name": "python",
   "nbconvert_exporter": "python",
   "pygments_lexer": "ipython3",
   "version": "3.11.9"
  }
 },
 "nbformat": 4,
 "nbformat_minor": 5
}
