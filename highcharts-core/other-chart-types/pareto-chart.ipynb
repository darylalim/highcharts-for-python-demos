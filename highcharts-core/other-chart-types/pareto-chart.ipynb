{
 "cells": [
  {
   "cell_type": "markdown",
   "id": "0c26872a-fc19-4f08-9fd9-ce0b0d961f27",
   "metadata": {},
   "source": [
    "# Pareto chart\n",
    "A Pareto chart is a chart type based on the Pareto principle, commonly used to maximize business efficiency. Highcharts can calculate the Pareto line automatically based on a series, as shown in this chart."
   ]
  },
  {
   "cell_type": "markdown",
   "id": "6b461423-bdfe-46fd-ac5e-89a8191948e5",
   "metadata": {},
   "source": [
    "## Import Dependencies"
   ]
  },
  {
   "cell_type": "code",
   "execution_count": null,
   "id": "6ebbd6b7-cd27-4304-9d60-5e5cb2950063",
   "metadata": {},
   "outputs": [],
   "source": [
    "from highcharts_core.chart import Chart\n",
    "from highcharts_core.options import HighchartsOptions"
   ]
  },
  {
   "cell_type": "markdown",
   "id": "a07d8167-8441-4d14-97e6-f40983f37278",
   "metadata": {},
   "source": [
    "## Configure Options"
   ]
  },
  {
   "cell_type": "code",
   "execution_count": null,
   "id": "2d4b0bda-3c20-4af7-bf76-caff71606fed",
   "metadata": {},
   "outputs": [],
   "source": [
    "options_as_str = \"\"\"{\n",
    "    chart: {\n",
    "        renderTo: 'container',\n",
    "        type: 'column'\n",
    "    },\n",
    "    title: {\n",
    "        text: 'Restaurants Complaints'\n",
    "    },\n",
    "    tooltip: {\n",
    "        shared: true\n",
    "    },\n",
    "    xAxis: {\n",
    "        categories: [\n",
    "            'Overpriced',\n",
    "            'Small portions',\n",
    "            'Wait time',\n",
    "            'Food is tasteless',\n",
    "            'No atmosphere',\n",
    "            'Not clean',\n",
    "            'Too noisy',\n",
    "            'Unfriendly staff'\n",
    "        ],\n",
    "        crosshair: true\n",
    "    },\n",
    "    yAxis: [{\n",
    "        title: {\n",
    "            text: ''\n",
    "        }\n",
    "    }, {\n",
    "        title: {\n",
    "            text: ''\n",
    "        },\n",
    "        minPadding: 0,\n",
    "        maxPadding: 0,\n",
    "        max: 100,\n",
    "        min: 0,\n",
    "        opposite: true,\n",
    "        labels: {\n",
    "            format: '{value}%'\n",
    "        }\n",
    "    }],\n",
    "    series: [{\n",
    "        type: 'pareto',\n",
    "        name: 'Pareto',\n",
    "        yAxis: 1,\n",
    "        zIndex: 10,\n",
    "        baseSeries: 1,\n",
    "        tooltip: {\n",
    "            valueDecimals: 2,\n",
    "            valueSuffix: '%'\n",
    "        }\n",
    "    }, {\n",
    "        name: 'Complaints',\n",
    "        type: 'column',\n",
    "        zIndex: 2,\n",
    "        data: [755, 222, 151, 86, 72, 51, 36, 10]\n",
    "    }]\n",
    "}\"\"\""
   ]
  },
  {
   "cell_type": "markdown",
   "id": "7d6e716b-e5ae-41c3-8e31-892107976b8b",
   "metadata": {},
   "source": [
    "## Assemble Chart and Options"
   ]
  },
  {
   "cell_type": "code",
   "execution_count": null,
   "id": "cfbfabae-8868-4106-b720-5f00ae87a94a",
   "metadata": {},
   "outputs": [],
   "source": [
    "options = HighchartsOptions.from_js_literal(options_as_str)\n",
    "chart = Chart.from_options(options)"
   ]
  },
  {
   "cell_type": "markdown",
   "id": "4d16f0f2-c54c-45b5-a60a-b4c33e247e02",
   "metadata": {},
   "source": [
    "## Render Visualization"
   ]
  },
  {
   "cell_type": "code",
   "execution_count": null,
   "id": "71cd0e89-da09-4fa0-bdef-8ed5ce5db44a",
   "metadata": {
    "tags": []
   },
   "outputs": [],
   "source": [
    "chart.display()"
   ]
  }
 ],
 "metadata": {
  "kernelspec": {
   "display_name": "Python 3 (ipykernel)",
   "language": "python",
   "name": "python3"
  },
  "language_info": {
   "codemirror_mode": {
    "name": "ipython",
    "version": 3
   },
   "file_extension": ".py",
   "mimetype": "text/x-python",
   "name": "python",
   "nbconvert_exporter": "python",
   "pygments_lexer": "ipython3",
   "version": "3.11.9"
  }
 },
 "nbformat": 4,
 "nbformat_minor": 5
}
